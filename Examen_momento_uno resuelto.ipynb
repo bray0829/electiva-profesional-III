{
 "cells": [
  {
   "cell_type": "markdown",
   "metadata": {
    "nbgrader": {
     "grade": false,
     "grade_id": "cell-c9bfcc10c56bc604",
     "locked": true,
     "schema_version": 3,
     "solution": false,
     "task": false
    }
   },
   "source": [
    "# Laboratorio 2"
   ]
  },
  {
   "cell_type": "markdown",
   "metadata": {
    "nbgrader": {
     "grade": false,
     "grade_id": "cell-c9bfcc10c56bc605",
     "locked": true,
     "schema_version": 3,
     "solution": false,
     "task": false
    }
   },
   "source": [
    "## Desarrollo de una herramienta analítica usando paquetes especializados para análisis de datos en Python"
   ]
  },
  {
   "cell_type": "markdown",
   "metadata": {
    "nbgrader": {
     "grade": false,
     "grade_id": "cell-c9bfcc10c56bc606",
     "locked": true,
     "schema_version": 3,
     "solution": false,
     "task": false
    }
   },
   "source": [
    "Para el desarrollo de esta actividad puedes utilizar cualquier librería externa. Te recomendamos leer por completo el enunciado del laboratorio antes de comenzar, de forma que tengas claro el propósito global de la actividad y puedas desarrollar tu solución apuntando a él desde el inicio."
   ]
  },
  {
   "cell_type": "markdown",
   "metadata": {
    "nbgrader": {
     "grade": false,
     "grade_id": "cell-c9bfcc10c56bc607",
     "locked": true,
     "schema_version": 3,
     "solution": false,
     "task": false
    }
   },
   "source": [
    "Al desarrollar este laboratorio pondrás a prueba tus habilidades para:\n",
    "\n",
    "1. Identificar y abordar preguntas de negocio y de *analytics*.\n",
    "2. Leer datos desde archivos y almacenarlos utilizando métodos de librerías especializadas.\n",
    "3. Explorar, modificar, limpiar y unir objetos tablas de datos.\n",
    "4. Implementar análisis combinando métricas descriptivas, visualización, filtrado y agrupación.\n",
    "5. Implementar análisis basado en modelos estadísticos o de *machine learning*."
   ]
  },
  {
   "cell_type": "markdown",
   "metadata": {
    "nbgrader": {
     "grade": false,
     "grade_id": "cell-cfa5e4dba79247b3",
     "locked": true,
     "schema_version": 3,
     "solution": false,
     "task": false
    }
   },
   "source": [
    "##  Contexto: desigualdad y factores de éxito en pruebas Saber 11 en Colombia"
   ]
  },
  {
   "cell_type": "markdown",
   "metadata": {
    "nbgrader": {
     "grade": false,
     "grade_id": "cell-cfa5e4dba79247b4",
     "locked": true,
     "schema_version": 3,
     "solution": false,
     "task": false
    }
   },
   "source": [
    "El ICFES es el Instituto Colombiano para el Fomento de la Educación Superior y está adscrito al Ministerio de Educación a nivel nacional. Como parte de sus funciones, el ICFES administra las pruebas Saber 11, las cuales evalúan a todos los estudiantes del país al final de su educación secundaria. El examen contiene preguntas que evalúan una variedad de áreas del conocimiento (ej., matemáticas, física, inglés, etc.) y se lleva a cabo dos veces al año, ajustándose a los diferentes calendarios académicos que siguen las instituciones educativas. Al momento de inscribirse a las pruebas, los estudiantes diligencian un formulario que recoge información sociodemográfica y relacionada con la institución a la que pertenecen. El fin es obtener información con respecto al desempeño de los estudiantes en la prueba y de sus características."
   ]
  },
  {
   "cell_type": "markdown",
   "metadata": {
    "nbgrader": {
     "grade": false,
     "grade_id": "cell-cfa5e4dba79247b6",
     "locked": true,
     "schema_version": 3,
     "solution": false,
     "task": false
    }
   },
   "source": [
    "Al igual que otros países de la región, Colombia tiene grandes retos en términos de desigualdad, particularmente en el contexto de educación primaria y secundaria. Por esta razón, para el Estado colombiano es muy valioso el amplio registro de datos que el ICFES genera alrededor de las pruebas Saber 11, pues con ellos se pueden generar análisis sobre la calidad de la educación en el país y eventualmente dar lugar a recomendaciones sobre políticas públicas. En particular, la problemática a abordar en este caso de estudio es la desigualdad y factores de éxito en las pruebas Saber 11. "
   ]
  },
  {
   "cell_type": "markdown",
   "metadata": {
    "nbgrader": {
     "grade": false,
     "grade_id": "cell-cfa5e4dba79247b7",
     "locked": true,
     "schema_version": 3,
     "solution": false,
     "task": false
    }
   },
   "source": [
    "Los objetivos de este caso de estudio son:\n",
    "\n",
    "* Entender el contenido de los archivos de datos proporcionados sobre las pruebas Saber 11, generar un reporte acerca de sus características principales y seleccionar las partes de dicho contenido que podrían ser relevantes para el análisis.\n",
    "\n",
    "\n",
    "* Identificar características de las variables de interés y relaciones entre ellas, por ejemplo, a través de agrupación, visualizaciones y estadísticas descriptivas.\n",
    "\n",
    "\n",
    "* Proponer un modelo que busque relacionar las variables de interés con el desempeño de los estudiantes y concluir acerca de los posibles hallazgos que se podrían reportar para el *stakeholder*.\n",
    "\n",
    "\n",
    "* Generar una herramienta que permita a un usuario interactuar con alguno de los parámetros del análisis realizado de forma relevante en el contexto del problema."
   ]
  },
  {
   "cell_type": "markdown",
   "metadata": {
    "nbgrader": {
     "grade": false,
     "grade_id": "cell-997648f928b84190",
     "locked": true,
     "schema_version": 3,
     "solution": false,
     "task": false
    }
   },
   "source": [
    "## Fase 1: obtener e inspeccionar archivos"
   ]
  },
  {
   "cell_type": "markdown",
   "metadata": {
    "nbgrader": {
     "grade": false,
     "grade_id": "cell-997648f928b84191",
     "locked": true,
     "schema_version": 3,
     "solution": false,
     "task": false
    }
   },
   "source": [
    "En esta fase te harás una idea general del contenido de los datos y generarás un reporte al respecto (ej., imprimiendo mensajes, presentando tablas de resumen, etc.). Además, seleccionarás un segmento de los datos que consideres útil para realizar tu análisis."
   ]
  },
  {
   "cell_type": "markdown",
   "metadata": {
    "nbgrader": {
     "grade": false,
     "grade_id": "cell-997648f928b84192",
     "locked": true,
     "schema_version": 3,
     "solution": false,
     "task": false
    }
   },
   "source": [
    "Pautas generales:\n",
    "\n",
    "* Utilizar una librería especializada para leer los archivos de datos y agregarlos según sea necesario (ej., utilizando los métodos `append` o `concat` si eliges cargarlos utilizando la librería `pandas`).\n",
    "* Inspeccionar el archivo a partir de sus encabezados, columnas y descripciones de las variables según su tipo (ej., numéricas, categóricas).\n",
    "* Declarar una estructura de datos (ej., una lista) para almacenar un subconjunto de variables que puedan ser relevantes para la problemática de interés."
   ]
  },
  {
   "cell_type": "markdown",
   "metadata": {
    "nbgrader": {
     "grade": false,
     "grade_id": "cell-997648f928b84193",
     "locked": true,
     "schema_version": 3,
     "solution": false,
     "task": false
    }
   },
   "source": [
    "Preguntas guía:\n",
    "\n",
    "* ¿Qué dimensiones tienen los datos?\n",
    "* ¿Con cuántos años y periodos de evaluación se cuenta?\n",
    "* ¿Cuáles variables pueden ser de interés para la problemática planteada?\n",
    "* ¿Qué porcentaje de datos faltantes o no válidos hay en las columnas de interés? ¿Qué planteas para manejarlos?"
   ]
  },
  {
   "cell_type": "code",
   "execution_count": null,
   "metadata": {
    "nbgrader": {
     "grade": true,
     "grade_id": "cell-83d3b414ead0cca9",
     "locked": false,
     "points": 20,
     "schema_version": 3,
     "solution": true,
     "task": false
    }
   },
   "outputs": [
    {
     "name": "stdout",
     "output_type": "stream",
     "text": [
      "Primeras filas del dataset (A):\n",
      "  ESTU_TIPODOCUMENTO ESTU_NACIONALIDAD ESTU_GENERO     ESTU_FECHANACIMIENTO  \\\n",
      "0                 TI             SUIZA           F  2003 Mar 03 12:00:00 AM   \n",
      "1                PEP         VENEZUELA           M  2002 May 10 12:00:00 AM   \n",
      "2                 TI         VENEZUELA           F  2003 Dec 14 12:00:00 AM   \n",
      "3                 CE         VENEZUELA           M  2003 Apr 12 12:00:00 AM   \n",
      "4                 TI          COLOMBIA           F  2004 Mar 03 12:00:00 AM   \n",
      "\n",
      "   PERIODO  ESTU_CONSECUTIVO ESTU_ESTUDIANTE ESTU_PAIS_RESIDE ESTU_TIENEETNIA  \\\n",
      "0    20204  SB11202040211436      ESTUDIANTE            SUIZA              No   \n",
      "1    20204  SB11202040433216      ESTUDIANTE        VENEZUELA              No   \n",
      "2    20204  SB11202040244180      ESTUDIANTE        VENEZUELA              No   \n",
      "3    20204  SB11202040210971      ESTUDIANTE        VENEZUELA              No   \n",
      "4    20204  SB11202040235382      ESTUDIANTE         COLOMBIA              No   \n",
      "\n",
      "  ESTU_DEPTO_RESIDE  ...  PUNT_INGLES PERCENTIL_INGLES  DESEMP_INGLES  \\\n",
      "0      CUNDINAMARCA  ...         55.0               81             A1   \n",
      "1      CUNDINAMARCA  ...         33.0                6             A-   \n",
      "2      CUNDINAMARCA  ...         59.0               87             A2   \n",
      "3      CUNDINAMARCA  ...         47.0               58             A-   \n",
      "4      CUNDINAMARCA  ...         43.0               40             A-   \n",
      "\n",
      "  PUNT_GLOBAL PERCENTIL_GLOBAL ESTU_INSE_INDIVIDUAL ESTU_NSE_INDIVIDUAL  \\\n",
      "0         244               49            54.882365                 3.0   \n",
      "1         238               44            49.252311                 2.0   \n",
      "2         325               94            40.733672                 1.0   \n",
      "3         238               45            48.217953                 2.0   \n",
      "4         202               19            60.912192                 3.0   \n",
      "\n",
      "  ESTU_NSE_ESTABLECIMIENTO ESTU_ESTADOINVESTIGACION         ESTU_GENERACION-E  \n",
      "0                      3.0                 PUBLICAR                        NO  \n",
      "1                      2.0                 PUBLICAR                        NO  \n",
      "2                      3.0                 PUBLICAR  GENERACION E - GRATUIDAD  \n",
      "3                      3.0                 PUBLICAR                        NO  \n",
      "4                      3.0                 PUBLICAR                        NO  \n",
      "\n",
      "[5 rows x 81 columns]\n",
      "\n",
      "Información del dataset (A):\n",
      "<class 'pandas.core.frame.DataFrame'>\n",
      "RangeIndex: 504872 entries, 0 to 504871\n",
      "Data columns (total 81 columns):\n",
      " #   Column                         Non-Null Count   Dtype  \n",
      "---  ------                         --------------   -----  \n",
      " 0   ESTU_TIPODOCUMENTO             504872 non-null  object \n",
      " 1   ESTU_NACIONALIDAD              504872 non-null  object \n",
      " 2   ESTU_GENERO                    504864 non-null  object \n",
      " 3   ESTU_FECHANACIMIENTO           504872 non-null  object \n",
      " 4   PERIODO                        504872 non-null  int64  \n",
      " 5   ESTU_CONSECUTIVO               504872 non-null  object \n",
      " 6   ESTU_ESTUDIANTE                504872 non-null  object \n",
      " 7   ESTU_PAIS_RESIDE               504872 non-null  object \n",
      " 8   ESTU_TIENEETNIA                501879 non-null  object \n",
      " 9   ESTU_DEPTO_RESIDE              504870 non-null  object \n",
      " 10  ESTU_COD_RESIDE_DEPTO          504870 non-null  float64\n",
      " 11  ESTU_MCPIO_RESIDE              504870 non-null  object \n",
      " 12  ESTU_COD_RESIDE_MCPIO          504870 non-null  float64\n",
      " 13  FAMI_ESTRATOVIVIENDA           487920 non-null  object \n",
      " 14  FAMI_PERSONASHOGAR             489699 non-null  object \n",
      " 15  FAMI_CUARTOSHOGAR              489033 non-null  object \n",
      " 16  FAMI_EDUCACIONPADRE            491882 non-null  object \n",
      " 17  FAMI_EDUCACIONMADRE            491386 non-null  object \n",
      " 18  FAMI_TRABAJOLABORPADRE         485181 non-null  object \n",
      " 19  FAMI_TRABAJOLABORMADRE         487273 non-null  object \n",
      " 20  FAMI_TIENEINTERNET             491207 non-null  object \n",
      " 21  FAMI_TIENESERVICIOTV           489433 non-null  object \n",
      " 22  FAMI_TIENECOMPUTADOR           484678 non-null  object \n",
      " 23  FAMI_TIENELAVADORA             488640 non-null  object \n",
      " 24  FAMI_TIENEHORNOMICROOGAS       487730 non-null  object \n",
      " 25  FAMI_TIENEAUTOMOVIL            487063 non-null  object \n",
      " 26  FAMI_TIENEMOTOCICLETA          487786 non-null  object \n",
      " 27  FAMI_TIENECONSOLAVIDEOJUEGOS   487394 non-null  object \n",
      " 28  FAMI_NUMLIBROS                 491029 non-null  object \n",
      " 29  FAMI_COMELECHEDERIVADOS        491244 non-null  object \n",
      " 30  FAMI_COMECARNEPESCADOHUEVO     489566 non-null  object \n",
      " 31  FAMI_COMECEREALFRUTOSLEGUMBRE  484609 non-null  object \n",
      " 32  FAMI_SITUACIONECONOMICA        488558 non-null  object \n",
      " 33  ESTU_DEDICACIONLECTURADIARIA   490391 non-null  object \n",
      " 34  ESTU_DEDICACIONINTERNET        490246 non-null  object \n",
      " 35  ESTU_HORASSEMANATRABAJA        487888 non-null  object \n",
      " 36  ESTU_TIPOREMUNERACION          487226 non-null  object \n",
      " 37  COLE_CODIGO_ICFES              504872 non-null  int64  \n",
      " 38  COLE_COD_DANE_ESTABLECIMIENTO  504872 non-null  int64  \n",
      " 39  COLE_NOMBRE_ESTABLECIMIENTO    504872 non-null  object \n",
      " 40  COLE_GENERO                    504872 non-null  object \n",
      " 41  COLE_NATURALEZA                504872 non-null  object \n",
      " 42  COLE_CALENDARIO                504872 non-null  object \n",
      " 43  COLE_BILINGUE                  421865 non-null  object \n",
      " 44  COLE_CARACTER                  490695 non-null  object \n",
      " 45  COLE_COD_DANE_SEDE             504872 non-null  int64  \n",
      " 46  COLE_NOMBRE_SEDE               504872 non-null  object \n",
      " 47  COLE_SEDE_PRINCIPAL            504872 non-null  object \n",
      " 48  COLE_AREA_UBICACION            504872 non-null  object \n",
      " 49  COLE_JORNADA                   504872 non-null  object \n",
      " 50  COLE_COD_MCPIO_UBICACION       504872 non-null  int64  \n",
      " 51  COLE_MCPIO_UBICACION           504872 non-null  object \n",
      " 52  COLE_COD_DEPTO_UBICACION       504872 non-null  int64  \n",
      " 53  COLE_DEPTO_UBICACION           504872 non-null  object \n",
      " 54  ESTU_PRIVADO_LIBERTAD          504872 non-null  object \n",
      " 55  ESTU_COD_MCPIO_PRESENTACION    504664 non-null  float64\n",
      " 56  ESTU_MCPIO_PRESENTACION        504664 non-null  object \n",
      " 57  ESTU_DEPTO_PRESENTACION        504664 non-null  object \n",
      " 58  ESTU_COD_DEPTO_PRESENTACION    504664 non-null  float64\n",
      " 59  PUNT_LECTURA_CRITICA           504872 non-null  int64  \n",
      " 60  PERCENTIL_LECTURA_CRITICA      504872 non-null  int64  \n",
      " 61  DESEMP_LECTURA_CRITICA         504872 non-null  int64  \n",
      " 62  PUNT_MATEMATICAS               504872 non-null  int64  \n",
      " 63  PERCENTIL_MATEMATICAS          504872 non-null  int64  \n",
      " 64  DESEMP_MATEMATICAS             504872 non-null  int64  \n",
      " 65  PUNT_C_NATURALES               504872 non-null  int64  \n",
      " 66  PERCENTIL_C_NATURALES          504872 non-null  int64  \n",
      " 67  DESEMP_C_NATURALES             504872 non-null  int64  \n",
      " 68  PUNT_SOCIALES_CIUDADANAS       504872 non-null  int64  \n",
      " 69  PERCENTIL_SOCIALES_CIUDADANAS  504872 non-null  int64  \n",
      " 70  DESEMP_SOCIALES_CIUDADANAS     504872 non-null  int64  \n",
      " 71  PUNT_INGLES                    504538 non-null  float64\n",
      " 72  PERCENTIL_INGLES               504872 non-null  int64  \n",
      " 73  DESEMP_INGLES                  504872 non-null  object \n",
      " 74  PUNT_GLOBAL                    504872 non-null  int64  \n",
      " 75  PERCENTIL_GLOBAL               504872 non-null  int64  \n",
      " 76  ESTU_INSE_INDIVIDUAL           490927 non-null  float64\n",
      " 77  ESTU_NSE_INDIVIDUAL            490927 non-null  float64\n",
      " 78  ESTU_NSE_ESTABLECIMIENTO       504823 non-null  float64\n",
      " 79  ESTU_ESTADOINVESTIGACION       504872 non-null  object \n",
      " 80  ESTU_GENERACION-E              504872 non-null  object \n",
      "dtypes: float64(8), int64(21), object(52)\n",
      "memory usage: 312.0+ MB\n",
      "None\n",
      "\n",
      "Estadísticas descriptivas (A):\n",
      "        PERIODO  ESTU_COD_RESIDE_DEPTO  ESTU_COD_RESIDE_MCPIO  \\\n",
      "count  504872.0          504870.000000          504870.000000   \n",
      "mean    20204.0              36.099671           32579.046941   \n",
      "std         0.0             613.810991           26367.519505   \n",
      "min     20204.0               5.000000            5001.000000   \n",
      "25%     20204.0              11.000000           11001.000000   \n",
      "50%     20204.0              20.000000           20400.000000   \n",
      "75%     20204.0              54.000000           54001.000000   \n",
      "max     20204.0           99999.000000           99999.000000   \n",
      "\n",
      "       COLE_CODIGO_ICFES  COLE_COD_DANE_ESTABLECIMIENTO  COLE_COD_DANE_SEDE  \\\n",
      "count      504872.000000                   5.048720e+05        5.048720e+05   \n",
      "mean       291073.583621                   2.013835e+11        2.017896e+11   \n",
      "std        289443.194840                   9.096065e+10        9.151341e+10   \n",
      "min            83.000000                   1.050010e+11        1.050010e+11   \n",
      "25%         60343.000000                   1.158350e+11        1.158610e+11   \n",
      "50%        141838.000000                   1.730010e+11        1.730010e+11   \n",
      "75%        669267.000000                   3.050010e+11        3.050010e+11   \n",
      "max        752444.000000                   8.548740e+11        8.548740e+11   \n",
      "\n",
      "       COLE_COD_MCPIO_UBICACION  COLE_COD_DEPTO_UBICACION  \\\n",
      "count             504872.000000             504872.000000   \n",
      "mean               32557.154356                 32.317999   \n",
      "std                26337.925906                 26.312655   \n",
      "min                 5001.000000                  5.000000   \n",
      "25%                11001.000000                 11.000000   \n",
      "50%                20443.000000                 20.000000   \n",
      "75%                54001.000000                 54.000000   \n",
      "max                99773.000000                 99.000000   \n",
      "\n",
      "       ESTU_COD_MCPIO_PRESENTACION  ESTU_COD_DEPTO_PRESENTACION  ...  \\\n",
      "count                504664.000000                504664.000000  ...   \n",
      "mean                  32580.469552                    32.358585  ...   \n",
      "std                   26408.566261                    26.382008  ...   \n",
      "min                    5001.000000                     5.000000  ...   \n",
      "25%                   11001.000000                    11.000000  ...   \n",
      "50%                   20238.000000                    20.000000  ...   \n",
      "75%                   54001.000000                    54.000000  ...   \n",
      "max                   99773.000000                    99.000000  ...   \n",
      "\n",
      "       PUNT_SOCIALES_CIUDADANAS  PERCENTIL_SOCIALES_CIUDADANAS  \\\n",
      "count             504872.000000                  504872.000000   \n",
      "mean                  48.233939                      50.238106   \n",
      "std                   11.970584                      28.889352   \n",
      "min                    0.000000                       1.000000   \n",
      "25%                   39.000000                      25.000000   \n",
      "50%                   47.000000                      50.000000   \n",
      "75%                   57.000000                      75.000000   \n",
      "max                  100.000000                     100.000000   \n",
      "\n",
      "       DESEMP_SOCIALES_CIUDADANAS    PUNT_INGLES  PERCENTIL_INGLES  \\\n",
      "count               504872.000000  504538.000000     504872.000000   \n",
      "mean                     2.020696      46.883507         50.123681   \n",
      "std                      0.825769      11.313128         28.927940   \n",
      "min                      1.000000       0.000000          1.000000   \n",
      "25%                      1.000000      39.000000         25.000000   \n",
      "50%                      2.000000      45.000000         50.000000   \n",
      "75%                      3.000000      52.000000         75.000000   \n",
      "max                      4.000000     100.000000        100.000000   \n",
      "\n",
      "         PUNT_GLOBAL  PERCENTIL_GLOBAL  ESTU_INSE_INDIVIDUAL  \\\n",
      "count  504872.000000     504872.000000         490927.000000   \n",
      "mean      248.347102         50.097839             50.809918   \n",
      "std        48.692523         28.903895              9.444813   \n",
      "min         0.000000          1.000000             14.281577   \n",
      "25%       211.000000         25.000000             44.314347   \n",
      "50%       245.000000         50.000000             50.633782   \n",
      "75%       282.000000         75.000000             56.832224   \n",
      "max       500.000000        100.000000             84.836366   \n",
      "\n",
      "       ESTU_NSE_INDIVIDUAL  ESTU_NSE_ESTABLECIMIENTO  \n",
      "count        490927.000000             504823.000000  \n",
      "mean              2.406900                  2.428802  \n",
      "std               0.846049                  0.661466  \n",
      "min               1.000000                  1.000000  \n",
      "25%               2.000000                  2.000000  \n",
      "50%               2.000000                  2.000000  \n",
      "75%               3.000000                  3.000000  \n",
      "max               4.000000                  4.000000  \n",
      "\n",
      "[8 rows x 29 columns]\n",
      "\n",
      "Valores nulos por columna (A):\n",
      "ESTU_TIPODOCUMENTO              0\n",
      "ESTU_NACIONALIDAD               0\n",
      "ESTU_GENERO                     8\n",
      "ESTU_FECHANACIMIENTO            0\n",
      "PERIODO                         0\n",
      "                            ...  \n",
      "ESTU_INSE_INDIVIDUAL        13945\n",
      "ESTU_NSE_INDIVIDUAL         13945\n",
      "ESTU_NSE_ESTABLECIMIENTO       49\n",
      "ESTU_ESTADOINVESTIGACION        0\n",
      "ESTU_GENERACION-E               0\n",
      "Length: 81, dtype: int64\n",
      "\n",
      "Primeras filas del dataset (B):\n",
      "  ESTU_TIPODOCUMENTO ESTU_NACIONALIDAD ESTU_GENERO     ESTU_FECHANACIMIENTO  \\\n",
      "0                 TI             SUIZA           F  2003 Mar 03 12:00:00 AM   \n",
      "1                PEP         VENEZUELA           M  2002 May 10 12:00:00 AM   \n",
      "2                 TI         VENEZUELA           F  2003 Dec 14 12:00:00 AM   \n",
      "3                 CE         VENEZUELA           M  2003 Apr 12 12:00:00 AM   \n",
      "4                 TI          COLOMBIA           F  2004 Mar 03 12:00:00 AM   \n",
      "\n",
      "   PERIODO  ESTU_CONSECUTIVO ESTU_ESTUDIANTE ESTU_PAIS_RESIDE ESTU_TIENEETNIA  \\\n",
      "0    20204  SB11202040211436      ESTUDIANTE            SUIZA              No   \n",
      "1    20204  SB11202040433216      ESTUDIANTE        VENEZUELA              No   \n",
      "2    20204  SB11202040244180      ESTUDIANTE        VENEZUELA              No   \n",
      "3    20204  SB11202040210971      ESTUDIANTE        VENEZUELA              No   \n",
      "4    20204  SB11202040235382      ESTUDIANTE         COLOMBIA              No   \n",
      "\n",
      "  ESTU_DEPTO_RESIDE  ...  PUNT_INGLES PERCENTIL_INGLES  DESEMP_INGLES  \\\n",
      "0      CUNDINAMARCA  ...         55.0               81             A1   \n",
      "1      CUNDINAMARCA  ...         33.0                6             A-   \n",
      "2      CUNDINAMARCA  ...         59.0               87             A2   \n",
      "3      CUNDINAMARCA  ...         47.0               58             A-   \n",
      "4      CUNDINAMARCA  ...         43.0               40             A-   \n",
      "\n",
      "  PUNT_GLOBAL PERCENTIL_GLOBAL ESTU_INSE_INDIVIDUAL ESTU_NSE_INDIVIDUAL  \\\n",
      "0         244               49            54.882365                 3.0   \n",
      "1         238               44            49.252311                 2.0   \n",
      "2         325               94            40.733672                 1.0   \n",
      "3         238               45            48.217953                 2.0   \n",
      "4         202               19            60.912192                 3.0   \n",
      "\n",
      "  ESTU_NSE_ESTABLECIMIENTO ESTU_ESTADOINVESTIGACION         ESTU_GENERACION-E  \n",
      "0                      3.0                 PUBLICAR                        NO  \n",
      "1                      2.0                 PUBLICAR                        NO  \n",
      "2                      3.0                 PUBLICAR  GENERACION E - GRATUIDAD  \n",
      "3                      3.0                 PUBLICAR                        NO  \n",
      "4                      3.0                 PUBLICAR                        NO  \n",
      "\n",
      "[5 rows x 81 columns]\n"
     ]
    }
   ],
   "source": [
    "# Implementa tu respuesta en esta celda\n",
    "import pandas as pd\n",
    "\n",
    "# Cargar los datos en dos variables\n",
    "datos_icfes_a = pd.read_csv(\"Saber_11°_2020-2_20250914.csv\")\n",
    "datos_icfes_b = pd.read_csv(\"Saber_11°_2020-2_20250914.csv\")\n",
    "\n",
    "print(\"Primeras filas del dataset (A):\")\n",
    "print(datos_icfes_a.head())\n",
    "\n",
    "print(\"\\nInformación del dataset (A):\")\n",
    "print(datos_icfes_a.info())\n",
    "\n",
    "print(\"\\nEstadísticas descriptivas (A):\")\n",
    "print(datos_icfes_a.describe())\n",
    "\n",
    "print(\"\\nValores nulos por columna (A):\")\n",
    "print(datos_icfes_a.isnull().sum())\n",
    "\n",
    "print(\"\\nPrimeras filas del dataset (B):\")\n",
    "print(datos_icfes_b.head())\n"
   ]
  },
  {
   "cell_type": "markdown",
   "metadata": {
    "nbgrader": {
     "grade": false,
     "grade_id": "cell-015824b401dc270e",
     "locked": true,
     "schema_version": 3,
     "solution": false,
     "task": false
    }
   },
   "source": [
    "## Fase 2: identificar características y relaciones en las variables"
   ]
  },
  {
   "cell_type": "markdown",
   "metadata": {
    "nbgrader": {
     "grade": false,
     "grade_id": "cell-015824b401dc270e1",
     "locked": true,
     "schema_version": 3,
     "solution": false,
     "task": false
    }
   },
   "source": [
    "En esta fase realizarás análisis descriptivo para identificar posibles patrones o relaciones entre las variables de interés para la problemática planteada. Además, expondrás estadísticas descriptivas y visualizaciones para concluir al respecto de los patrones y las relaciones identificadas. Finalmente, elegirás el segmento de los datos sobre el cual profundizarás con tu análisis (este puede ser, o no, igual al seleccionado anteriormente)."
   ]
  },
  {
   "cell_type": "markdown",
   "metadata": {
    "nbgrader": {
     "grade": false,
     "grade_id": "cell-015824b401dc270e2",
     "locked": true,
     "schema_version": 3,
     "solution": false,
     "task": false
    }
   },
   "source": [
    "Pautas generales:\n",
    "\n",
    "* Calcular estadísticas descriptivas básicas (por lo menos, media/mediana y varianza/desviación) para cada variable sociodemográfica relevante en el contexto del problema.\n",
    "* Utilizar librerías especializadas (ej., `matplotlib`, `seaborn`, etc.) para inspeccionar visualmente variables de interés. Los métodos `distplot`, `pairplot`, `boxplot`, o `violinplot`, entre otros, pueden ser útiles.\n",
    "* Utilizar el método `groupby` de `pandas`, en conjunto con métodos de visualización, puede proveer evidencia del impacto de las variables sociodemográficas de interés sobre el desempeño de los estudiantes en la prueba."
   ]
  },
  {
   "cell_type": "markdown",
   "metadata": {
    "nbgrader": {
     "grade": false,
     "grade_id": "cell-015824b401dc270e3",
     "locked": true,
     "schema_version": 3,
     "solution": false,
     "task": false
    }
   },
   "source": [
    "Preguntas guía:\n",
    "\n",
    "* ¿Hay patrones de interés en las distribuciones de las variables o en las relaciones entre ellas?\n",
    "* ¿Consideras que existe algún impacto significativo de variables sociodemográficas en los puntajes globales o por área?\n",
    "* ¿Sobre cuáles variables harías un análisis más profundo?"
   ]
  },
  {
   "cell_type": "code",
   "execution_count": null,
   "metadata": {
    "nbgrader": {
     "grade": true,
     "grade_id": "cell-e13f54c7af1552c9",
     "locked": false,
     "points": 20,
     "schema_version": 3,
     "solution": true,
     "task": false
    }
   },
   "outputs": [
    {
     "name": "stdout",
     "output_type": "stream",
     "text": [
      "\n",
      "===== Análisis descriptivo ICFES A =====\n",
      "\n",
      "Estadísticas descriptivas:\n",
      "                                       mean           50%           std\n",
      "PERIODO                        2.020400e+04  2.020400e+04  0.000000e+00\n",
      "ESTU_COD_RESIDE_DEPTO          3.609967e+01  2.000000e+01  6.138110e+02\n",
      "ESTU_COD_RESIDE_MCPIO          3.257905e+04  2.040000e+04  2.636752e+04\n",
      "COLE_CODIGO_ICFES              2.910736e+05  1.418380e+05  2.894432e+05\n",
      "COLE_COD_DANE_ESTABLECIMIENTO  2.013835e+11  1.730010e+11  9.096065e+10\n",
      "COLE_COD_DANE_SEDE             2.017896e+11  1.730010e+11  9.151341e+10\n",
      "COLE_COD_MCPIO_UBICACION       3.255715e+04  2.044300e+04  2.633793e+04\n",
      "COLE_COD_DEPTO_UBICACION       3.231800e+01  2.000000e+01  2.631266e+01\n",
      "ESTU_COD_MCPIO_PRESENTACION    3.258047e+04  2.023800e+04  2.640857e+04\n",
      "ESTU_COD_DEPTO_PRESENTACION    3.235859e+01  2.000000e+01  2.638201e+01\n",
      "PUNT_LECTURA_CRITICA           5.215678e+01  5.200000e+01  1.015843e+01\n",
      "PERCENTIL_LECTURA_CRITICA      5.019397e+01  5.000000e+01  2.890797e+01\n",
      "DESEMP_LECTURA_CRITICA         2.612852e+00  3.000000e+00  7.258455e-01\n",
      "PUNT_MATEMATICAS               5.101975e+01  5.100000e+01  1.164766e+01\n",
      "PERCENTIL_MATEMATICAS          5.022957e+01  5.000000e+01  2.887243e+01\n",
      "DESEMP_MATEMATICAS             2.470826e+00  3.000000e+00  7.212303e-01\n",
      "PUNT_C_NATURALES               4.819737e+01  4.800000e+01  1.049961e+01\n",
      "PERCENTIL_C_NATURALES          5.027138e+01  5.000000e+01  2.886437e+01\n",
      "DESEMP_C_NATURALES             2.012356e+00  2.000000e+00  7.527008e-01\n",
      "PUNT_SOCIALES_CIUDADANAS       4.823394e+01  4.700000e+01  1.197058e+01\n",
      "PERCENTIL_SOCIALES_CIUDADANAS  5.023811e+01  5.000000e+01  2.888935e+01\n",
      "DESEMP_SOCIALES_CIUDADANAS     2.020696e+00  2.000000e+00  8.257690e-01\n",
      "PUNT_INGLES                    4.688351e+01  4.500000e+01  1.131313e+01\n",
      "PERCENTIL_INGLES               5.012368e+01  5.000000e+01  2.892794e+01\n",
      "PUNT_GLOBAL                    2.483471e+02  2.450000e+02  4.869252e+01\n",
      "PERCENTIL_GLOBAL               5.009784e+01  5.000000e+01  2.890389e+01\n",
      "ESTU_INSE_INDIVIDUAL           5.080992e+01  5.063378e+01  9.444813e+00\n",
      "ESTU_NSE_INDIVIDUAL            2.406900e+00  2.000000e+00  8.460493e-01\n",
      "ESTU_NSE_ESTABLECIMIENTO       2.428802e+00  2.000000e+00  6.614664e-01\n"
     ]
    },
    {
     "data": {
      "image/png": "[encoded data removed]",
      "text/plain": [
       "<Figure size 800x500 with 1 Axes>"
      ]
     },
     "metadata": {},
     "output_type": "display_data"
    },
    {
     "data": {
      "image/png": "[encoded data removed]",
      "text/plain": [
       "<Figure size 600x500 with 1 Axes>"
      ]
     },
     "metadata": {},
     "output_type": "display_data"
    },
    {
     "data": {
      "image/png": "[encoded data removed]",
      "text/plain": [
       "<Figure size 600x500 with 1 Axes>"
      ]
     },
     "metadata": {},
     "output_type": "display_data"
    },
    {
     "name": "stdout",
     "output_type": "stream",
     "text": [
      "\n",
      "===== Análisis descriptivo ICFES B =====\n",
      "\n",
      "Estadísticas descriptivas:\n",
      "                                       mean           50%           std\n",
      "PERIODO                        2.020400e+04  2.020400e+04  0.000000e+00\n",
      "ESTU_COD_RESIDE_DEPTO          3.609967e+01  2.000000e+01  6.138110e+02\n",
      "ESTU_COD_RESIDE_MCPIO          3.257905e+04  2.040000e+04  2.636752e+04\n",
      "COLE_CODIGO_ICFES              2.910736e+05  1.418380e+05  2.894432e+05\n",
      "COLE_COD_DANE_ESTABLECIMIENTO  2.013835e+11  1.730010e+11  9.096065e+10\n",
      "COLE_COD_DANE_SEDE             2.017896e+11  1.730010e+11  9.151341e+10\n",
      "COLE_COD_MCPIO_UBICACION       3.255715e+04  2.044300e+04  2.633793e+04\n",
      "COLE_COD_DEPTO_UBICACION       3.231800e+01  2.000000e+01  2.631266e+01\n",
      "ESTU_COD_MCPIO_PRESENTACION    3.258047e+04  2.023800e+04  2.640857e+04\n",
      "ESTU_COD_DEPTO_PRESENTACION    3.235859e+01  2.000000e+01  2.638201e+01\n",
      "PUNT_LECTURA_CRITICA           5.215678e+01  5.200000e+01  1.015843e+01\n",
      "PERCENTIL_LECTURA_CRITICA      5.019397e+01  5.000000e+01  2.890797e+01\n",
      "DESEMP_LECTURA_CRITICA         2.612852e+00  3.000000e+00  7.258455e-01\n",
      "PUNT_MATEMATICAS               5.101975e+01  5.100000e+01  1.164766e+01\n",
      "PERCENTIL_MATEMATICAS          5.022957e+01  5.000000e+01  2.887243e+01\n",
      "DESEMP_MATEMATICAS             2.470826e+00  3.000000e+00  7.212303e-01\n",
      "PUNT_C_NATURALES               4.819737e+01  4.800000e+01  1.049961e+01\n",
      "PERCENTIL_C_NATURALES          5.027138e+01  5.000000e+01  2.886437e+01\n",
      "DESEMP_C_NATURALES             2.012356e+00  2.000000e+00  7.527008e-01\n",
      "PUNT_SOCIALES_CIUDADANAS       4.823394e+01  4.700000e+01  1.197058e+01\n",
      "PERCENTIL_SOCIALES_CIUDADANAS  5.023811e+01  5.000000e+01  2.888935e+01\n",
      "DESEMP_SOCIALES_CIUDADANAS     2.020696e+00  2.000000e+00  8.257690e-01\n",
      "PUNT_INGLES                    4.688351e+01  4.500000e+01  1.131313e+01\n",
      "PERCENTIL_INGLES               5.012368e+01  5.000000e+01  2.892794e+01\n",
      "PUNT_GLOBAL                    2.483471e+02  2.450000e+02  4.869252e+01\n",
      "PERCENTIL_GLOBAL               5.009784e+01  5.000000e+01  2.890389e+01\n",
      "ESTU_INSE_INDIVIDUAL           5.080992e+01  5.063378e+01  9.444813e+00\n",
      "ESTU_NSE_INDIVIDUAL            2.406900e+00  2.000000e+00  8.460493e-01\n",
      "ESTU_NSE_ESTABLECIMIENTO       2.428802e+00  2.000000e+00  6.614664e-01\n"
     ]
    },
    {
     "data": {
      "image/png": "[encoded data removed]",
      "text/plain": [
       "<Figure size 800x500 with 1 Axes>"
      ]
     },
     "metadata": {},
     "output_type": "display_data"
    },
    {
     "data": {
      "image/png": "[encoded data removed]",
      "text/plain": [
       "<Figure size 600x500 with 1 Axes>"
      ]
     },
     "metadata": {},
     "output_type": "display_data"
    },
    {
     "data": {
      "image/png": "[encoded data removed]",
      "text/plain": [
       "<Figure size 600x500 with 1 Axes>"
      ]
     },
     "metadata": {},
     "output_type": "display_data"
    }
   ],
   "source": [
    "import pandas as pd\n",
    "import seaborn as sns\n",
    "import matplotlib.pyplot as plt\n",
    "\n",
    "def analisis_descriptivo(df, nombre):\n",
    "    print(f\"\\n===== Análisis descriptivo {nombre} =====\")\n",
    "    \n",
    "    # Seleccionar solo columnas numéricas\n",
    "    df_num = df.select_dtypes(include=['int64', 'float64'])\n",
    "    \n",
    "    # Estadísticas básicas\n",
    "    print(\"\\nEstadísticas descriptivas:\")\n",
    "    print(df_num.describe().T[['mean','50%','std']])  \n",
    "    \n",
    "    if 'PUNT_GLOBAL' in df_num.columns:\n",
    "        plt.figure(figsize=(8,5))\n",
    "        sns.histplot(df_num['PUNT_GLOBAL'], kde=True, bins=30)\n",
    "        plt.title(f\"Distribución Puntaje Global - {nombre}\")\n",
    "        plt.show()\n",
    "    \n",
    "    if 'ESTU_GENERO' in df.columns and 'PUNT_GLOBAL' in df_num.columns:\n",
    "        plt.figure(figsize=(6,5))\n",
    "        sns.boxplot(x='ESTU_GENERO', y='PUNT_GLOBAL', data=df)\n",
    "        plt.title(f\"Puntaje Global por Género - {nombre}\")\n",
    "        plt.show()\n",
    "    \n",
    "    if 'COLE_NATURALEZA' in df.columns and 'PUNT_GLOBAL' in df_num.columns:\n",
    "        plt.figure(figsize=(6,5))\n",
    "        sns.violinplot(x='COLE_NATURALEZA', y='PUNT_GLOBAL', data=df)\n",
    "        plt.title(f\"Puntaje Global por Naturaleza del Colegio - {nombre}\")\n",
    "        plt.show()\n",
    "\n",
    "\n",
    "# Ejecutar con ambos datasets\n",
    "analisis_descriptivo(datos_icfes_a, \"ICFES A\")\n",
    "analisis_descriptivo(datos_icfes_b, \"ICFES B\")\n"
   ]
  },
  {
   "cell_type": "markdown",
   "metadata": {
    "nbgrader": {
     "grade": false,
     "grade_id": "cell-216057b23d3cc36d1",
     "locked": true,
     "schema_version": 3,
     "solution": false,
     "task": false
    }
   },
   "source": [
    "## Fase 3: abordar relación variables-desempeño a través de un modelo"
   ]
  },
  {
   "cell_type": "markdown",
   "metadata": {
    "nbgrader": {
     "grade": false,
     "grade_id": "cell-216057b23d3cc36d2",
     "locked": true,
     "schema_version": 3,
     "solution": false,
     "task": false
    }
   },
   "source": [
    "En esta fase propondrás, implementarás y reportarás el desempeño de uno o más modelos (al menos uno predictivo) que busquen explicar las relaciones entre factores sociodemográficos y el desempeño en la prueba. Además, concluirás con respecto a la validez de al menos un modelo y los posibles hallazgos que se podrían reportar para el *stakeholder*."
   ]
  },
  {
   "cell_type": "markdown",
   "metadata": {
    "nbgrader": {
     "grade": false,
     "grade_id": "cell-216057b23d3cc36d3",
     "locked": true,
     "schema_version": 3,
     "solution": false,
     "task": false
    }
   },
   "source": [
    "Pautas generales:\n",
    "\n",
    "* Seleccionar variables y proponer modelos acordes a estas y al contexto del problema.\n",
    "* Utilizar librerías especializadas (ej., `statsmodels`, `sklearn`, etc.) para indagar sobre los aspectos que contribuyen al éxito de los estudiantes. Los módulos correspondientes a regresión lineal y regresión logística pueden ser útiles.\n",
    "* Asegurar el cumplimiento de los supuestos y buenas prácticas de cada modelo.\n",
    "* Utilizar las métricas de evaluación de desempeño (disponibles en las librerías especilizadas), para concluir sobre la validez de los modelos propuestos."
   ]
  },
  {
   "cell_type": "markdown",
   "metadata": {
    "nbgrader": {
     "grade": false,
     "grade_id": "cell-216057b23d3cc36d4",
     "locked": true,
     "schema_version": 3,
     "solution": false,
     "task": false
    }
   },
   "source": [
    "Preguntas guía:\n",
    "\n",
    "* ¿Existe algún sub-conjunto de variables socio-demográficas que explique razonablemente bien el desempeño de los estudiantes en la prueba?"
   ]
  },
  {
   "cell_type": "code",
   "execution_count": null,
   "metadata": {
    "collapsed": true,
    "nbgrader": {
     "grade": true,
     "grade_id": "cell-94b22dd2cafa56a2",
     "locked": false,
     "points": 30,
     "schema_version": 3,
     "solution": true,
     "task": false
    }
   },
   "outputs": [
    {
     "name": "stdout",
     "output_type": "stream",
     "text": [
      "\n",
      "===== Fase 3: Modelado ICFES A =====\n"
     ]
    },
    {
     "name": "stderr",
     "output_type": "stream",
     "text": [
      "C:\\Users\\Windows\\AppData\\Local\\Temp\\ipykernel_7436\\2966372241.py:17: SettingWithCopyWarning: \n",
      "A value is trying to be set on a copy of a slice from a DataFrame.\n",
      "Try using .loc[row_indexer,col_indexer] = value instead\n",
      "\n",
      "See the caveats in the documentation: https://pandas.pydata.org/pandas-docs/stable/user_guide/indexing.html#returning-a-view-versus-a-copy\n",
      "  df[col] = le.fit_transform(df[col])\n",
      "C:\\Users\\Windows\\AppData\\Local\\Temp\\ipykernel_7436\\2966372241.py:17: SettingWithCopyWarning: \n",
      "A value is trying to be set on a copy of a slice from a DataFrame.\n",
      "Try using .loc[row_indexer,col_indexer] = value instead\n",
      "\n",
      "See the caveats in the documentation: https://pandas.pydata.org/pandas-docs/stable/user_guide/indexing.html#returning-a-view-versus-a-copy\n",
      "  df[col] = le.fit_transform(df[col])\n",
      "C:\\Users\\Windows\\AppData\\Local\\Temp\\ipykernel_7436\\2966372241.py:17: SettingWithCopyWarning: \n",
      "A value is trying to be set on a copy of a slice from a DataFrame.\n",
      "Try using .loc[row_indexer,col_indexer] = value instead\n",
      "\n",
      "See the caveats in the documentation: https://pandas.pydata.org/pandas-docs/stable/user_guide/indexing.html#returning-a-view-versus-a-copy\n",
      "  df[col] = le.fit_transform(df[col])\n",
      "C:\\Users\\Windows\\AppData\\Local\\Temp\\ipykernel_7436\\2966372241.py:17: SettingWithCopyWarning: \n",
      "A value is trying to be set on a copy of a slice from a DataFrame.\n",
      "Try using .loc[row_indexer,col_indexer] = value instead\n",
      "\n",
      "See the caveats in the documentation: https://pandas.pydata.org/pandas-docs/stable/user_guide/indexing.html#returning-a-view-versus-a-copy\n",
      "  df[col] = le.fit_transform(df[col])\n",
      "C:\\Users\\Windows\\AppData\\Local\\Temp\\ipykernel_7436\\2966372241.py:17: SettingWithCopyWarning: \n",
      "A value is trying to be set on a copy of a slice from a DataFrame.\n",
      "Try using .loc[row_indexer,col_indexer] = value instead\n",
      "\n",
      "See the caveats in the documentation: https://pandas.pydata.org/pandas-docs/stable/user_guide/indexing.html#returning-a-view-versus-a-copy\n",
      "  df[col] = le.fit_transform(df[col])\n",
      "C:\\Users\\Windows\\AppData\\Local\\Temp\\ipykernel_7436\\2966372241.py:17: SettingWithCopyWarning: \n",
      "A value is trying to be set on a copy of a slice from a DataFrame.\n",
      "Try using .loc[row_indexer,col_indexer] = value instead\n",
      "\n",
      "See the caveats in the documentation: https://pandas.pydata.org/pandas-docs/stable/user_guide/indexing.html#returning-a-view-versus-a-copy\n",
      "  df[col] = le.fit_transform(df[col])\n",
      "C:\\Users\\Windows\\AppData\\Local\\Temp\\ipykernel_7436\\2966372241.py:17: SettingWithCopyWarning: \n",
      "A value is trying to be set on a copy of a slice from a DataFrame.\n",
      "Try using .loc[row_indexer,col_indexer] = value instead\n",
      "\n",
      "See the caveats in the documentation: https://pandas.pydata.org/pandas-docs/stable/user_guide/indexing.html#returning-a-view-versus-a-copy\n",
      "  df[col] = le.fit_transform(df[col])\n",
      "C:\\Users\\Windows\\AppData\\Local\\Temp\\ipykernel_7436\\2966372241.py:17: SettingWithCopyWarning: \n",
      "A value is trying to be set on a copy of a slice from a DataFrame.\n",
      "Try using .loc[row_indexer,col_indexer] = value instead\n",
      "\n",
      "See the caveats in the documentation: https://pandas.pydata.org/pandas-docs/stable/user_guide/indexing.html#returning-a-view-versus-a-copy\n",
      "  df[col] = le.fit_transform(df[col])\n",
      "C:\\Users\\Windows\\AppData\\Local\\Temp\\ipykernel_7436\\2966372241.py:17: SettingWithCopyWarning: \n",
      "A value is trying to be set on a copy of a slice from a DataFrame.\n",
      "Try using .loc[row_indexer,col_indexer] = value instead\n",
      "\n",
      "See the caveats in the documentation: https://pandas.pydata.org/pandas-docs/stable/user_guide/indexing.html#returning-a-view-versus-a-copy\n",
      "  df[col] = le.fit_transform(df[col])\n",
      "C:\\Users\\Windows\\AppData\\Local\\Temp\\ipykernel_7436\\2966372241.py:17: SettingWithCopyWarning: \n",
      "A value is trying to be set on a copy of a slice from a DataFrame.\n",
      "Try using .loc[row_indexer,col_indexer] = value instead\n",
      "\n",
      "See the caveats in the documentation: https://pandas.pydata.org/pandas-docs/stable/user_guide/indexing.html#returning-a-view-versus-a-copy\n",
      "  df[col] = le.fit_transform(df[col])\n",
      "C:\\Users\\Windows\\AppData\\Local\\Temp\\ipykernel_7436\\2966372241.py:17: SettingWithCopyWarning: \n",
      "A value is trying to be set on a copy of a slice from a DataFrame.\n",
      "Try using .loc[row_indexer,col_indexer] = value instead\n",
      "\n",
      "See the caveats in the documentation: https://pandas.pydata.org/pandas-docs/stable/user_guide/indexing.html#returning-a-view-versus-a-copy\n",
      "  df[col] = le.fit_transform(df[col])\n",
      "C:\\Users\\Windows\\AppData\\Local\\Temp\\ipykernel_7436\\2966372241.py:17: SettingWithCopyWarning: \n",
      "A value is trying to be set on a copy of a slice from a DataFrame.\n",
      "Try using .loc[row_indexer,col_indexer] = value instead\n",
      "\n",
      "See the caveats in the documentation: https://pandas.pydata.org/pandas-docs/stable/user_guide/indexing.html#returning-a-view-versus-a-copy\n",
      "  df[col] = le.fit_transform(df[col])\n",
      "C:\\Users\\Windows\\AppData\\Local\\Temp\\ipykernel_7436\\2966372241.py:17: SettingWithCopyWarning: \n",
      "A value is trying to be set on a copy of a slice from a DataFrame.\n",
      "Try using .loc[row_indexer,col_indexer] = value instead\n",
      "\n",
      "See the caveats in the documentation: https://pandas.pydata.org/pandas-docs/stable/user_guide/indexing.html#returning-a-view-versus-a-copy\n",
      "  df[col] = le.fit_transform(df[col])\n",
      "C:\\Users\\Windows\\AppData\\Local\\Temp\\ipykernel_7436\\2966372241.py:17: SettingWithCopyWarning: \n",
      "A value is trying to be set on a copy of a slice from a DataFrame.\n",
      "Try using .loc[row_indexer,col_indexer] = value instead\n",
      "\n",
      "See the caveats in the documentation: https://pandas.pydata.org/pandas-docs/stable/user_guide/indexing.html#returning-a-view-versus-a-copy\n",
      "  df[col] = le.fit_transform(df[col])\n",
      "C:\\Users\\Windows\\AppData\\Local\\Temp\\ipykernel_7436\\2966372241.py:17: SettingWithCopyWarning: \n",
      "A value is trying to be set on a copy of a slice from a DataFrame.\n",
      "Try using .loc[row_indexer,col_indexer] = value instead\n",
      "\n",
      "See the caveats in the documentation: https://pandas.pydata.org/pandas-docs/stable/user_guide/indexing.html#returning-a-view-versus-a-copy\n",
      "  df[col] = le.fit_transform(df[col])\n",
      "C:\\Users\\Windows\\AppData\\Local\\Temp\\ipykernel_7436\\2966372241.py:17: SettingWithCopyWarning: \n",
      "A value is trying to be set on a copy of a slice from a DataFrame.\n",
      "Try using .loc[row_indexer,col_indexer] = value instead\n",
      "\n",
      "See the caveats in the documentation: https://pandas.pydata.org/pandas-docs/stable/user_guide/indexing.html#returning-a-view-versus-a-copy\n",
      "  df[col] = le.fit_transform(df[col])\n",
      "C:\\Users\\Windows\\AppData\\Local\\Temp\\ipykernel_7436\\2966372241.py:17: SettingWithCopyWarning: \n",
      "A value is trying to be set on a copy of a slice from a DataFrame.\n",
      "Try using .loc[row_indexer,col_indexer] = value instead\n",
      "\n",
      "See the caveats in the documentation: https://pandas.pydata.org/pandas-docs/stable/user_guide/indexing.html#returning-a-view-versus-a-copy\n",
      "  df[col] = le.fit_transform(df[col])\n",
      "C:\\Users\\Windows\\AppData\\Local\\Temp\\ipykernel_7436\\2966372241.py:17: SettingWithCopyWarning: \n",
      "A value is trying to be set on a copy of a slice from a DataFrame.\n",
      "Try using .loc[row_indexer,col_indexer] = value instead\n",
      "\n",
      "See the caveats in the documentation: https://pandas.pydata.org/pandas-docs/stable/user_guide/indexing.html#returning-a-view-versus-a-copy\n",
      "  df[col] = le.fit_transform(df[col])\n",
      "C:\\Users\\Windows\\AppData\\Local\\Temp\\ipykernel_7436\\2966372241.py:17: SettingWithCopyWarning: \n",
      "A value is trying to be set on a copy of a slice from a DataFrame.\n",
      "Try using .loc[row_indexer,col_indexer] = value instead\n",
      "\n",
      "See the caveats in the documentation: https://pandas.pydata.org/pandas-docs/stable/user_guide/indexing.html#returning-a-view-versus-a-copy\n",
      "  df[col] = le.fit_transform(df[col])\n",
      "C:\\Users\\Windows\\AppData\\Local\\Temp\\ipykernel_7436\\2966372241.py:17: SettingWithCopyWarning: \n",
      "A value is trying to be set on a copy of a slice from a DataFrame.\n",
      "Try using .loc[row_indexer,col_indexer] = value instead\n",
      "\n",
      "See the caveats in the documentation: https://pandas.pydata.org/pandas-docs/stable/user_guide/indexing.html#returning-a-view-versus-a-copy\n",
      "  df[col] = le.fit_transform(df[col])\n",
      "C:\\Users\\Windows\\AppData\\Local\\Temp\\ipykernel_7436\\2966372241.py:17: SettingWithCopyWarning: \n",
      "A value is trying to be set on a copy of a slice from a DataFrame.\n",
      "Try using .loc[row_indexer,col_indexer] = value instead\n",
      "\n",
      "See the caveats in the documentation: https://pandas.pydata.org/pandas-docs/stable/user_guide/indexing.html#returning-a-view-versus-a-copy\n",
      "  df[col] = le.fit_transform(df[col])\n",
      "C:\\Users\\Windows\\AppData\\Local\\Temp\\ipykernel_7436\\2966372241.py:17: SettingWithCopyWarning: \n",
      "A value is trying to be set on a copy of a slice from a DataFrame.\n",
      "Try using .loc[row_indexer,col_indexer] = value instead\n",
      "\n",
      "See the caveats in the documentation: https://pandas.pydata.org/pandas-docs/stable/user_guide/indexing.html#returning-a-view-versus-a-copy\n",
      "  df[col] = le.fit_transform(df[col])\n",
      "C:\\Users\\Windows\\AppData\\Local\\Temp\\ipykernel_7436\\2966372241.py:17: SettingWithCopyWarning: \n",
      "A value is trying to be set on a copy of a slice from a DataFrame.\n",
      "Try using .loc[row_indexer,col_indexer] = value instead\n",
      "\n",
      "See the caveats in the documentation: https://pandas.pydata.org/pandas-docs/stable/user_guide/indexing.html#returning-a-view-versus-a-copy\n",
      "  df[col] = le.fit_transform(df[col])\n",
      "C:\\Users\\Windows\\AppData\\Local\\Temp\\ipykernel_7436\\2966372241.py:17: SettingWithCopyWarning: \n",
      "A value is trying to be set on a copy of a slice from a DataFrame.\n",
      "Try using .loc[row_indexer,col_indexer] = value instead\n",
      "\n",
      "See the caveats in the documentation: https://pandas.pydata.org/pandas-docs/stable/user_guide/indexing.html#returning-a-view-versus-a-copy\n",
      "  df[col] = le.fit_transform(df[col])\n",
      "C:\\Users\\Windows\\AppData\\Local\\Temp\\ipykernel_7436\\2966372241.py:17: SettingWithCopyWarning: \n",
      "A value is trying to be set on a copy of a slice from a DataFrame.\n",
      "Try using .loc[row_indexer,col_indexer] = value instead\n",
      "\n",
      "See the caveats in the documentation: https://pandas.pydata.org/pandas-docs/stable/user_guide/indexing.html#returning-a-view-versus-a-copy\n",
      "  df[col] = le.fit_transform(df[col])\n",
      "C:\\Users\\Windows\\AppData\\Local\\Temp\\ipykernel_7436\\2966372241.py:17: SettingWithCopyWarning: \n",
      "A value is trying to be set on a copy of a slice from a DataFrame.\n",
      "Try using .loc[row_indexer,col_indexer] = value instead\n",
      "\n",
      "See the caveats in the documentation: https://pandas.pydata.org/pandas-docs/stable/user_guide/indexing.html#returning-a-view-versus-a-copy\n",
      "  df[col] = le.fit_transform(df[col])\n",
      "C:\\Users\\Windows\\AppData\\Local\\Temp\\ipykernel_7436\\2966372241.py:17: SettingWithCopyWarning: \n",
      "A value is trying to be set on a copy of a slice from a DataFrame.\n",
      "Try using .loc[row_indexer,col_indexer] = value instead\n",
      "\n",
      "See the caveats in the documentation: https://pandas.pydata.org/pandas-docs/stable/user_guide/indexing.html#returning-a-view-versus-a-copy\n",
      "  df[col] = le.fit_transform(df[col])\n",
      "C:\\Users\\Windows\\AppData\\Local\\Temp\\ipykernel_7436\\2966372241.py:17: SettingWithCopyWarning: \n",
      "A value is trying to be set on a copy of a slice from a DataFrame.\n",
      "Try using .loc[row_indexer,col_indexer] = value instead\n",
      "\n",
      "See the caveats in the documentation: https://pandas.pydata.org/pandas-docs/stable/user_guide/indexing.html#returning-a-view-versus-a-copy\n",
      "  df[col] = le.fit_transform(df[col])\n",
      "C:\\Users\\Windows\\AppData\\Local\\Temp\\ipykernel_7436\\2966372241.py:17: SettingWithCopyWarning: \n",
      "A value is trying to be set on a copy of a slice from a DataFrame.\n",
      "Try using .loc[row_indexer,col_indexer] = value instead\n",
      "\n",
      "See the caveats in the documentation: https://pandas.pydata.org/pandas-docs/stable/user_guide/indexing.html#returning-a-view-versus-a-copy\n",
      "  df[col] = le.fit_transform(df[col])\n",
      "C:\\Users\\Windows\\AppData\\Local\\Temp\\ipykernel_7436\\2966372241.py:17: SettingWithCopyWarning: \n",
      "A value is trying to be set on a copy of a slice from a DataFrame.\n",
      "Try using .loc[row_indexer,col_indexer] = value instead\n",
      "\n",
      "See the caveats in the documentation: https://pandas.pydata.org/pandas-docs/stable/user_guide/indexing.html#returning-a-view-versus-a-copy\n",
      "  df[col] = le.fit_transform(df[col])\n",
      "C:\\Users\\Windows\\AppData\\Local\\Temp\\ipykernel_7436\\2966372241.py:17: SettingWithCopyWarning: \n",
      "A value is trying to be set on a copy of a slice from a DataFrame.\n",
      "Try using .loc[row_indexer,col_indexer] = value instead\n",
      "\n",
      "See the caveats in the documentation: https://pandas.pydata.org/pandas-docs/stable/user_guide/indexing.html#returning-a-view-versus-a-copy\n",
      "  df[col] = le.fit_transform(df[col])\n",
      "C:\\Users\\Windows\\AppData\\Local\\Temp\\ipykernel_7436\\2966372241.py:17: SettingWithCopyWarning: \n",
      "A value is trying to be set on a copy of a slice from a DataFrame.\n",
      "Try using .loc[row_indexer,col_indexer] = value instead\n",
      "\n",
      "See the caveats in the documentation: https://pandas.pydata.org/pandas-docs/stable/user_guide/indexing.html#returning-a-view-versus-a-copy\n",
      "  df[col] = le.fit_transform(df[col])\n",
      "C:\\Users\\Windows\\AppData\\Local\\Temp\\ipykernel_7436\\2966372241.py:17: SettingWithCopyWarning: \n",
      "A value is trying to be set on a copy of a slice from a DataFrame.\n",
      "Try using .loc[row_indexer,col_indexer] = value instead\n",
      "\n",
      "See the caveats in the documentation: https://pandas.pydata.org/pandas-docs/stable/user_guide/indexing.html#returning-a-view-versus-a-copy\n",
      "  df[col] = le.fit_transform(df[col])\n",
      "C:\\Users\\Windows\\AppData\\Local\\Temp\\ipykernel_7436\\2966372241.py:17: SettingWithCopyWarning: \n",
      "A value is trying to be set on a copy of a slice from a DataFrame.\n",
      "Try using .loc[row_indexer,col_indexer] = value instead\n",
      "\n",
      "See the caveats in the documentation: https://pandas.pydata.org/pandas-docs/stable/user_guide/indexing.html#returning-a-view-versus-a-copy\n",
      "  df[col] = le.fit_transform(df[col])\n",
      "C:\\Users\\Windows\\AppData\\Local\\Temp\\ipykernel_7436\\2966372241.py:17: SettingWithCopyWarning: \n",
      "A value is trying to be set on a copy of a slice from a DataFrame.\n",
      "Try using .loc[row_indexer,col_indexer] = value instead\n",
      "\n",
      "See the caveats in the documentation: https://pandas.pydata.org/pandas-docs/stable/user_guide/indexing.html#returning-a-view-versus-a-copy\n",
      "  df[col] = le.fit_transform(df[col])\n",
      "C:\\Users\\Windows\\AppData\\Local\\Temp\\ipykernel_7436\\2966372241.py:17: SettingWithCopyWarning: \n",
      "A value is trying to be set on a copy of a slice from a DataFrame.\n",
      "Try using .loc[row_indexer,col_indexer] = value instead\n",
      "\n",
      "See the caveats in the documentation: https://pandas.pydata.org/pandas-docs/stable/user_guide/indexing.html#returning-a-view-versus-a-copy\n",
      "  df[col] = le.fit_transform(df[col])\n",
      "C:\\Users\\Windows\\AppData\\Local\\Temp\\ipykernel_7436\\2966372241.py:17: SettingWithCopyWarning: \n",
      "A value is trying to be set on a copy of a slice from a DataFrame.\n",
      "Try using .loc[row_indexer,col_indexer] = value instead\n",
      "\n",
      "See the caveats in the documentation: https://pandas.pydata.org/pandas-docs/stable/user_guide/indexing.html#returning-a-view-versus-a-copy\n",
      "  df[col] = le.fit_transform(df[col])\n",
      "C:\\Users\\Windows\\AppData\\Local\\Temp\\ipykernel_7436\\2966372241.py:17: SettingWithCopyWarning: \n",
      "A value is trying to be set on a copy of a slice from a DataFrame.\n",
      "Try using .loc[row_indexer,col_indexer] = value instead\n",
      "\n",
      "See the caveats in the documentation: https://pandas.pydata.org/pandas-docs/stable/user_guide/indexing.html#returning-a-view-versus-a-copy\n",
      "  df[col] = le.fit_transform(df[col])\n",
      "C:\\Users\\Windows\\AppData\\Local\\Temp\\ipykernel_7436\\2966372241.py:17: SettingWithCopyWarning: \n",
      "A value is trying to be set on a copy of a slice from a DataFrame.\n",
      "Try using .loc[row_indexer,col_indexer] = value instead\n",
      "\n",
      "See the caveats in the documentation: https://pandas.pydata.org/pandas-docs/stable/user_guide/indexing.html#returning-a-view-versus-a-copy\n",
      "  df[col] = le.fit_transform(df[col])\n",
      "C:\\Users\\Windows\\AppData\\Local\\Temp\\ipykernel_7436\\2966372241.py:17: SettingWithCopyWarning: \n",
      "A value is trying to be set on a copy of a slice from a DataFrame.\n",
      "Try using .loc[row_indexer,col_indexer] = value instead\n",
      "\n",
      "See the caveats in the documentation: https://pandas.pydata.org/pandas-docs/stable/user_guide/indexing.html#returning-a-view-versus-a-copy\n",
      "  df[col] = le.fit_transform(df[col])\n",
      "C:\\Users\\Windows\\AppData\\Local\\Temp\\ipykernel_7436\\2966372241.py:17: SettingWithCopyWarning: \n",
      "A value is trying to be set on a copy of a slice from a DataFrame.\n",
      "Try using .loc[row_indexer,col_indexer] = value instead\n",
      "\n",
      "See the caveats in the documentation: https://pandas.pydata.org/pandas-docs/stable/user_guide/indexing.html#returning-a-view-versus-a-copy\n",
      "  df[col] = le.fit_transform(df[col])\n",
      "C:\\Users\\Windows\\AppData\\Local\\Temp\\ipykernel_7436\\2966372241.py:17: SettingWithCopyWarning: \n",
      "A value is trying to be set on a copy of a slice from a DataFrame.\n",
      "Try using .loc[row_indexer,col_indexer] = value instead\n",
      "\n",
      "See the caveats in the documentation: https://pandas.pydata.org/pandas-docs/stable/user_guide/indexing.html#returning-a-view-versus-a-copy\n",
      "  df[col] = le.fit_transform(df[col])\n",
      "C:\\Users\\Windows\\AppData\\Local\\Temp\\ipykernel_7436\\2966372241.py:17: SettingWithCopyWarning: \n",
      "A value is trying to be set on a copy of a slice from a DataFrame.\n",
      "Try using .loc[row_indexer,col_indexer] = value instead\n",
      "\n",
      "See the caveats in the documentation: https://pandas.pydata.org/pandas-docs/stable/user_guide/indexing.html#returning-a-view-versus-a-copy\n",
      "  df[col] = le.fit_transform(df[col])\n",
      "C:\\Users\\Windows\\AppData\\Local\\Temp\\ipykernel_7436\\2966372241.py:17: SettingWithCopyWarning: \n",
      "A value is trying to be set on a copy of a slice from a DataFrame.\n",
      "Try using .loc[row_indexer,col_indexer] = value instead\n",
      "\n",
      "See the caveats in the documentation: https://pandas.pydata.org/pandas-docs/stable/user_guide/indexing.html#returning-a-view-versus-a-copy\n",
      "  df[col] = le.fit_transform(df[col])\n",
      "C:\\Users\\Windows\\AppData\\Local\\Temp\\ipykernel_7436\\2966372241.py:17: SettingWithCopyWarning: \n",
      "A value is trying to be set on a copy of a slice from a DataFrame.\n",
      "Try using .loc[row_indexer,col_indexer] = value instead\n",
      "\n",
      "See the caveats in the documentation: https://pandas.pydata.org/pandas-docs/stable/user_guide/indexing.html#returning-a-view-versus-a-copy\n",
      "  df[col] = le.fit_transform(df[col])\n",
      "C:\\Users\\Windows\\AppData\\Local\\Temp\\ipykernel_7436\\2966372241.py:17: SettingWithCopyWarning: \n",
      "A value is trying to be set on a copy of a slice from a DataFrame.\n",
      "Try using .loc[row_indexer,col_indexer] = value instead\n",
      "\n",
      "See the caveats in the documentation: https://pandas.pydata.org/pandas-docs/stable/user_guide/indexing.html#returning-a-view-versus-a-copy\n",
      "  df[col] = le.fit_transform(df[col])\n",
      "C:\\Users\\Windows\\AppData\\Local\\Temp\\ipykernel_7436\\2966372241.py:17: SettingWithCopyWarning: \n",
      "A value is trying to be set on a copy of a slice from a DataFrame.\n",
      "Try using .loc[row_indexer,col_indexer] = value instead\n",
      "\n",
      "See the caveats in the documentation: https://pandas.pydata.org/pandas-docs/stable/user_guide/indexing.html#returning-a-view-versus-a-copy\n",
      "  df[col] = le.fit_transform(df[col])\n",
      "C:\\Users\\Windows\\AppData\\Local\\Temp\\ipykernel_7436\\2966372241.py:17: SettingWithCopyWarning: \n",
      "A value is trying to be set on a copy of a slice from a DataFrame.\n",
      "Try using .loc[row_indexer,col_indexer] = value instead\n",
      "\n",
      "See the caveats in the documentation: https://pandas.pydata.org/pandas-docs/stable/user_guide/indexing.html#returning-a-view-versus-a-copy\n",
      "  df[col] = le.fit_transform(df[col])\n",
      "C:\\Users\\Windows\\AppData\\Local\\Temp\\ipykernel_7436\\2966372241.py:17: SettingWithCopyWarning: \n",
      "A value is trying to be set on a copy of a slice from a DataFrame.\n",
      "Try using .loc[row_indexer,col_indexer] = value instead\n",
      "\n",
      "See the caveats in the documentation: https://pandas.pydata.org/pandas-docs/stable/user_guide/indexing.html#returning-a-view-versus-a-copy\n",
      "  df[col] = le.fit_transform(df[col])\n",
      "C:\\Users\\Windows\\AppData\\Local\\Temp\\ipykernel_7436\\2966372241.py:17: SettingWithCopyWarning: \n",
      "A value is trying to be set on a copy of a slice from a DataFrame.\n",
      "Try using .loc[row_indexer,col_indexer] = value instead\n",
      "\n",
      "See the caveats in the documentation: https://pandas.pydata.org/pandas-docs/stable/user_guide/indexing.html#returning-a-view-versus-a-copy\n",
      "  df[col] = le.fit_transform(df[col])\n",
      "C:\\Users\\Windows\\AppData\\Local\\Temp\\ipykernel_7436\\2966372241.py:17: SettingWithCopyWarning: \n",
      "A value is trying to be set on a copy of a slice from a DataFrame.\n",
      "Try using .loc[row_indexer,col_indexer] = value instead\n",
      "\n",
      "See the caveats in the documentation: https://pandas.pydata.org/pandas-docs/stable/user_guide/indexing.html#returning-a-view-versus-a-copy\n",
      "  df[col] = le.fit_transform(df[col])\n",
      "C:\\Users\\Windows\\AppData\\Local\\Temp\\ipykernel_7436\\2966372241.py:17: SettingWithCopyWarning: \n",
      "A value is trying to be set on a copy of a slice from a DataFrame.\n",
      "Try using .loc[row_indexer,col_indexer] = value instead\n",
      "\n",
      "See the caveats in the documentation: https://pandas.pydata.org/pandas-docs/stable/user_guide/indexing.html#returning-a-view-versus-a-copy\n",
      "  df[col] = le.fit_transform(df[col])\n"
     ]
    },
    {
     "name": "stdout",
     "output_type": "stream",
     "text": [
      "\n",
      "Resultados Regresión Lineal:\n",
      " MAE  = 4.31\n",
      " RMSE = 6.87\n",
      " R²   = 0.980\n",
      "\n",
      "Resultados Random Forest:\n",
      " MAE  = 0.49\n",
      " RMSE = 0.84\n",
      " R²   = 1.000\n",
      "\n",
      "Variables más importantes según Random Forest:\n",
      "PERCENTIL_GLOBAL                 0.997714\n",
      "PUNT_SOCIALES_CIUDADANAS         0.000541\n",
      "PUNT_MATEMATICAS                 0.000480\n",
      "PUNT_C_NATURALES                 0.000440\n",
      "PUNT_LECTURA_CRITICA             0.000331\n",
      "PUNT_INGLES                      0.000079\n",
      "PERCENTIL_LECTURA_CRITICA        0.000045\n",
      "PERCENTIL_SOCIALES_CIUDADANAS    0.000032\n",
      "PERCENTIL_C_NATURALES            0.000032\n",
      "PERCENTIL_MATEMATICAS            0.000032\n",
      "dtype: float64\n",
      "\n",
      "===== Fase 3: Modelado ICFES B =====\n"
     ]
    },
    {
     "name": "stderr",
     "output_type": "stream",
     "text": [
      "C:\\Users\\Windows\\AppData\\Local\\Temp\\ipykernel_7436\\2966372241.py:17: SettingWithCopyWarning: \n",
      "A value is trying to be set on a copy of a slice from a DataFrame.\n",
      "Try using .loc[row_indexer,col_indexer] = value instead\n",
      "\n",
      "See the caveats in the documentation: https://pandas.pydata.org/pandas-docs/stable/user_guide/indexing.html#returning-a-view-versus-a-copy\n",
      "  df[col] = le.fit_transform(df[col])\n",
      "C:\\Users\\Windows\\AppData\\Local\\Temp\\ipykernel_7436\\2966372241.py:17: SettingWithCopyWarning: \n",
      "A value is trying to be set on a copy of a slice from a DataFrame.\n",
      "Try using .loc[row_indexer,col_indexer] = value instead\n",
      "\n",
      "See the caveats in the documentation: https://pandas.pydata.org/pandas-docs/stable/user_guide/indexing.html#returning-a-view-versus-a-copy\n",
      "  df[col] = le.fit_transform(df[col])\n",
      "C:\\Users\\Windows\\AppData\\Local\\Temp\\ipykernel_7436\\2966372241.py:17: SettingWithCopyWarning: \n",
      "A value is trying to be set on a copy of a slice from a DataFrame.\n",
      "Try using .loc[row_indexer,col_indexer] = value instead\n",
      "\n",
      "See the caveats in the documentation: https://pandas.pydata.org/pandas-docs/stable/user_guide/indexing.html#returning-a-view-versus-a-copy\n",
      "  df[col] = le.fit_transform(df[col])\n",
      "C:\\Users\\Windows\\AppData\\Local\\Temp\\ipykernel_7436\\2966372241.py:17: SettingWithCopyWarning: \n",
      "A value is trying to be set on a copy of a slice from a DataFrame.\n",
      "Try using .loc[row_indexer,col_indexer] = value instead\n",
      "\n",
      "See the caveats in the documentation: https://pandas.pydata.org/pandas-docs/stable/user_guide/indexing.html#returning-a-view-versus-a-copy\n",
      "  df[col] = le.fit_transform(df[col])\n",
      "C:\\Users\\Windows\\AppData\\Local\\Temp\\ipykernel_7436\\2966372241.py:17: SettingWithCopyWarning: \n",
      "A value is trying to be set on a copy of a slice from a DataFrame.\n",
      "Try using .loc[row_indexer,col_indexer] = value instead\n",
      "\n",
      "See the caveats in the documentation: https://pandas.pydata.org/pandas-docs/stable/user_guide/indexing.html#returning-a-view-versus-a-copy\n",
      "  df[col] = le.fit_transform(df[col])\n",
      "C:\\Users\\Windows\\AppData\\Local\\Temp\\ipykernel_7436\\2966372241.py:17: SettingWithCopyWarning: \n",
      "A value is trying to be set on a copy of a slice from a DataFrame.\n",
      "Try using .loc[row_indexer,col_indexer] = value instead\n",
      "\n",
      "See the caveats in the documentation: https://pandas.pydata.org/pandas-docs/stable/user_guide/indexing.html#returning-a-view-versus-a-copy\n",
      "  df[col] = le.fit_transform(df[col])\n",
      "C:\\Users\\Windows\\AppData\\Local\\Temp\\ipykernel_7436\\2966372241.py:17: SettingWithCopyWarning: \n",
      "A value is trying to be set on a copy of a slice from a DataFrame.\n",
      "Try using .loc[row_indexer,col_indexer] = value instead\n",
      "\n",
      "See the caveats in the documentation: https://pandas.pydata.org/pandas-docs/stable/user_guide/indexing.html#returning-a-view-versus-a-copy\n",
      "  df[col] = le.fit_transform(df[col])\n",
      "C:\\Users\\Windows\\AppData\\Local\\Temp\\ipykernel_7436\\2966372241.py:17: SettingWithCopyWarning: \n",
      "A value is trying to be set on a copy of a slice from a DataFrame.\n",
      "Try using .loc[row_indexer,col_indexer] = value instead\n",
      "\n",
      "See the caveats in the documentation: https://pandas.pydata.org/pandas-docs/stable/user_guide/indexing.html#returning-a-view-versus-a-copy\n",
      "  df[col] = le.fit_transform(df[col])\n",
      "C:\\Users\\Windows\\AppData\\Local\\Temp\\ipykernel_7436\\2966372241.py:17: SettingWithCopyWarning: \n",
      "A value is trying to be set on a copy of a slice from a DataFrame.\n",
      "Try using .loc[row_indexer,col_indexer] = value instead\n",
      "\n",
      "See the caveats in the documentation: https://pandas.pydata.org/pandas-docs/stable/user_guide/indexing.html#returning-a-view-versus-a-copy\n",
      "  df[col] = le.fit_transform(df[col])\n",
      "C:\\Users\\Windows\\AppData\\Local\\Temp\\ipykernel_7436\\2966372241.py:17: SettingWithCopyWarning: \n",
      "A value is trying to be set on a copy of a slice from a DataFrame.\n",
      "Try using .loc[row_indexer,col_indexer] = value instead\n",
      "\n",
      "See the caveats in the documentation: https://pandas.pydata.org/pandas-docs/stable/user_guide/indexing.html#returning-a-view-versus-a-copy\n",
      "  df[col] = le.fit_transform(df[col])\n",
      "C:\\Users\\Windows\\AppData\\Local\\Temp\\ipykernel_7436\\2966372241.py:17: SettingWithCopyWarning: \n",
      "A value is trying to be set on a copy of a slice from a DataFrame.\n",
      "Try using .loc[row_indexer,col_indexer] = value instead\n",
      "\n",
      "See the caveats in the documentation: https://pandas.pydata.org/pandas-docs/stable/user_guide/indexing.html#returning-a-view-versus-a-copy\n",
      "  df[col] = le.fit_transform(df[col])\n",
      "C:\\Users\\Windows\\AppData\\Local\\Temp\\ipykernel_7436\\2966372241.py:17: SettingWithCopyWarning: \n",
      "A value is trying to be set on a copy of a slice from a DataFrame.\n",
      "Try using .loc[row_indexer,col_indexer] = value instead\n",
      "\n",
      "See the caveats in the documentation: https://pandas.pydata.org/pandas-docs/stable/user_guide/indexing.html#returning-a-view-versus-a-copy\n",
      "  df[col] = le.fit_transform(df[col])\n",
      "C:\\Users\\Windows\\AppData\\Local\\Temp\\ipykernel_7436\\2966372241.py:17: SettingWithCopyWarning: \n",
      "A value is trying to be set on a copy of a slice from a DataFrame.\n",
      "Try using .loc[row_indexer,col_indexer] = value instead\n",
      "\n",
      "See the caveats in the documentation: https://pandas.pydata.org/pandas-docs/stable/user_guide/indexing.html#returning-a-view-versus-a-copy\n",
      "  df[col] = le.fit_transform(df[col])\n",
      "C:\\Users\\Windows\\AppData\\Local\\Temp\\ipykernel_7436\\2966372241.py:17: SettingWithCopyWarning: \n",
      "A value is trying to be set on a copy of a slice from a DataFrame.\n",
      "Try using .loc[row_indexer,col_indexer] = value instead\n",
      "\n",
      "See the caveats in the documentation: https://pandas.pydata.org/pandas-docs/stable/user_guide/indexing.html#returning-a-view-versus-a-copy\n",
      "  df[col] = le.fit_transform(df[col])\n",
      "C:\\Users\\Windows\\AppData\\Local\\Temp\\ipykernel_7436\\2966372241.py:17: SettingWithCopyWarning: \n",
      "A value is trying to be set on a copy of a slice from a DataFrame.\n",
      "Try using .loc[row_indexer,col_indexer] = value instead\n",
      "\n",
      "See the caveats in the documentation: https://pandas.pydata.org/pandas-docs/stable/user_guide/indexing.html#returning-a-view-versus-a-copy\n",
      "  df[col] = le.fit_transform(df[col])\n",
      "C:\\Users\\Windows\\AppData\\Local\\Temp\\ipykernel_7436\\2966372241.py:17: SettingWithCopyWarning: \n",
      "A value is trying to be set on a copy of a slice from a DataFrame.\n",
      "Try using .loc[row_indexer,col_indexer] = value instead\n",
      "\n",
      "See the caveats in the documentation: https://pandas.pydata.org/pandas-docs/stable/user_guide/indexing.html#returning-a-view-versus-a-copy\n",
      "  df[col] = le.fit_transform(df[col])\n",
      "C:\\Users\\Windows\\AppData\\Local\\Temp\\ipykernel_7436\\2966372241.py:17: SettingWithCopyWarning: \n",
      "A value is trying to be set on a copy of a slice from a DataFrame.\n",
      "Try using .loc[row_indexer,col_indexer] = value instead\n",
      "\n",
      "See the caveats in the documentation: https://pandas.pydata.org/pandas-docs/stable/user_guide/indexing.html#returning-a-view-versus-a-copy\n",
      "  df[col] = le.fit_transform(df[col])\n",
      "C:\\Users\\Windows\\AppData\\Local\\Temp\\ipykernel_7436\\2966372241.py:17: SettingWithCopyWarning: \n",
      "A value is trying to be set on a copy of a slice from a DataFrame.\n",
      "Try using .loc[row_indexer,col_indexer] = value instead\n",
      "\n",
      "See the caveats in the documentation: https://pandas.pydata.org/pandas-docs/stable/user_guide/indexing.html#returning-a-view-versus-a-copy\n",
      "  df[col] = le.fit_transform(df[col])\n",
      "C:\\Users\\Windows\\AppData\\Local\\Temp\\ipykernel_7436\\2966372241.py:17: SettingWithCopyWarning: \n",
      "A value is trying to be set on a copy of a slice from a DataFrame.\n",
      "Try using .loc[row_indexer,col_indexer] = value instead\n",
      "\n",
      "See the caveats in the documentation: https://pandas.pydata.org/pandas-docs/stable/user_guide/indexing.html#returning-a-view-versus-a-copy\n",
      "  df[col] = le.fit_transform(df[col])\n",
      "C:\\Users\\Windows\\AppData\\Local\\Temp\\ipykernel_7436\\2966372241.py:17: SettingWithCopyWarning: \n",
      "A value is trying to be set on a copy of a slice from a DataFrame.\n",
      "Try using .loc[row_indexer,col_indexer] = value instead\n",
      "\n",
      "See the caveats in the documentation: https://pandas.pydata.org/pandas-docs/stable/user_guide/indexing.html#returning-a-view-versus-a-copy\n",
      "  df[col] = le.fit_transform(df[col])\n",
      "C:\\Users\\Windows\\AppData\\Local\\Temp\\ipykernel_7436\\2966372241.py:17: SettingWithCopyWarning: \n",
      "A value is trying to be set on a copy of a slice from a DataFrame.\n",
      "Try using .loc[row_indexer,col_indexer] = value instead\n",
      "\n",
      "See the caveats in the documentation: https://pandas.pydata.org/pandas-docs/stable/user_guide/indexing.html#returning-a-view-versus-a-copy\n",
      "  df[col] = le.fit_transform(df[col])\n",
      "C:\\Users\\Windows\\AppData\\Local\\Temp\\ipykernel_7436\\2966372241.py:17: SettingWithCopyWarning: \n",
      "A value is trying to be set on a copy of a slice from a DataFrame.\n",
      "Try using .loc[row_indexer,col_indexer] = value instead\n",
      "\n",
      "See the caveats in the documentation: https://pandas.pydata.org/pandas-docs/stable/user_guide/indexing.html#returning-a-view-versus-a-copy\n",
      "  df[col] = le.fit_transform(df[col])\n",
      "C:\\Users\\Windows\\AppData\\Local\\Temp\\ipykernel_7436\\2966372241.py:17: SettingWithCopyWarning: \n",
      "A value is trying to be set on a copy of a slice from a DataFrame.\n",
      "Try using .loc[row_indexer,col_indexer] = value instead\n",
      "\n",
      "See the caveats in the documentation: https://pandas.pydata.org/pandas-docs/stable/user_guide/indexing.html#returning-a-view-versus-a-copy\n",
      "  df[col] = le.fit_transform(df[col])\n",
      "C:\\Users\\Windows\\AppData\\Local\\Temp\\ipykernel_7436\\2966372241.py:17: SettingWithCopyWarning: \n",
      "A value is trying to be set on a copy of a slice from a DataFrame.\n",
      "Try using .loc[row_indexer,col_indexer] = value instead\n",
      "\n",
      "See the caveats in the documentation: https://pandas.pydata.org/pandas-docs/stable/user_guide/indexing.html#returning-a-view-versus-a-copy\n",
      "  df[col] = le.fit_transform(df[col])\n",
      "C:\\Users\\Windows\\AppData\\Local\\Temp\\ipykernel_7436\\2966372241.py:17: SettingWithCopyWarning: \n",
      "A value is trying to be set on a copy of a slice from a DataFrame.\n",
      "Try using .loc[row_indexer,col_indexer] = value instead\n",
      "\n",
      "See the caveats in the documentation: https://pandas.pydata.org/pandas-docs/stable/user_guide/indexing.html#returning-a-view-versus-a-copy\n",
      "  df[col] = le.fit_transform(df[col])\n",
      "C:\\Users\\Windows\\AppData\\Local\\Temp\\ipykernel_7436\\2966372241.py:17: SettingWithCopyWarning: \n",
      "A value is trying to be set on a copy of a slice from a DataFrame.\n",
      "Try using .loc[row_indexer,col_indexer] = value instead\n",
      "\n",
      "See the caveats in the documentation: https://pandas.pydata.org/pandas-docs/stable/user_guide/indexing.html#returning-a-view-versus-a-copy\n",
      "  df[col] = le.fit_transform(df[col])\n",
      "C:\\Users\\Windows\\AppData\\Local\\Temp\\ipykernel_7436\\2966372241.py:17: SettingWithCopyWarning: \n",
      "A value is trying to be set on a copy of a slice from a DataFrame.\n",
      "Try using .loc[row_indexer,col_indexer] = value instead\n",
      "\n",
      "See the caveats in the documentation: https://pandas.pydata.org/pandas-docs/stable/user_guide/indexing.html#returning-a-view-versus-a-copy\n",
      "  df[col] = le.fit_transform(df[col])\n",
      "C:\\Users\\Windows\\AppData\\Local\\Temp\\ipykernel_7436\\2966372241.py:17: SettingWithCopyWarning: \n",
      "A value is trying to be set on a copy of a slice from a DataFrame.\n",
      "Try using .loc[row_indexer,col_indexer] = value instead\n",
      "\n",
      "See the caveats in the documentation: https://pandas.pydata.org/pandas-docs/stable/user_guide/indexing.html#returning-a-view-versus-a-copy\n",
      "  df[col] = le.fit_transform(df[col])\n",
      "C:\\Users\\Windows\\AppData\\Local\\Temp\\ipykernel_7436\\2966372241.py:17: SettingWithCopyWarning: \n",
      "A value is trying to be set on a copy of a slice from a DataFrame.\n",
      "Try using .loc[row_indexer,col_indexer] = value instead\n",
      "\n",
      "See the caveats in the documentation: https://pandas.pydata.org/pandas-docs/stable/user_guide/indexing.html#returning-a-view-versus-a-copy\n",
      "  df[col] = le.fit_transform(df[col])\n",
      "C:\\Users\\Windows\\AppData\\Local\\Temp\\ipykernel_7436\\2966372241.py:17: SettingWithCopyWarning: \n",
      "A value is trying to be set on a copy of a slice from a DataFrame.\n",
      "Try using .loc[row_indexer,col_indexer] = value instead\n",
      "\n",
      "See the caveats in the documentation: https://pandas.pydata.org/pandas-docs/stable/user_guide/indexing.html#returning-a-view-versus-a-copy\n",
      "  df[col] = le.fit_transform(df[col])\n",
      "C:\\Users\\Windows\\AppData\\Local\\Temp\\ipykernel_7436\\2966372241.py:17: SettingWithCopyWarning: \n",
      "A value is trying to be set on a copy of a slice from a DataFrame.\n",
      "Try using .loc[row_indexer,col_indexer] = value instead\n",
      "\n",
      "See the caveats in the documentation: https://pandas.pydata.org/pandas-docs/stable/user_guide/indexing.html#returning-a-view-versus-a-copy\n",
      "  df[col] = le.fit_transform(df[col])\n",
      "C:\\Users\\Windows\\AppData\\Local\\Temp\\ipykernel_7436\\2966372241.py:17: SettingWithCopyWarning: \n",
      "A value is trying to be set on a copy of a slice from a DataFrame.\n",
      "Try using .loc[row_indexer,col_indexer] = value instead\n",
      "\n",
      "See the caveats in the documentation: https://pandas.pydata.org/pandas-docs/stable/user_guide/indexing.html#returning-a-view-versus-a-copy\n",
      "  df[col] = le.fit_transform(df[col])\n",
      "C:\\Users\\Windows\\AppData\\Local\\Temp\\ipykernel_7436\\2966372241.py:17: SettingWithCopyWarning: \n",
      "A value is trying to be set on a copy of a slice from a DataFrame.\n",
      "Try using .loc[row_indexer,col_indexer] = value instead\n",
      "\n",
      "See the caveats in the documentation: https://pandas.pydata.org/pandas-docs/stable/user_guide/indexing.html#returning-a-view-versus-a-copy\n",
      "  df[col] = le.fit_transform(df[col])\n",
      "C:\\Users\\Windows\\AppData\\Local\\Temp\\ipykernel_7436\\2966372241.py:17: SettingWithCopyWarning: \n",
      "A value is trying to be set on a copy of a slice from a DataFrame.\n",
      "Try using .loc[row_indexer,col_indexer] = value instead\n",
      "\n",
      "See the caveats in the documentation: https://pandas.pydata.org/pandas-docs/stable/user_guide/indexing.html#returning-a-view-versus-a-copy\n",
      "  df[col] = le.fit_transform(df[col])\n",
      "C:\\Users\\Windows\\AppData\\Local\\Temp\\ipykernel_7436\\2966372241.py:17: SettingWithCopyWarning: \n",
      "A value is trying to be set on a copy of a slice from a DataFrame.\n",
      "Try using .loc[row_indexer,col_indexer] = value instead\n",
      "\n",
      "See the caveats in the documentation: https://pandas.pydata.org/pandas-docs/stable/user_guide/indexing.html#returning-a-view-versus-a-copy\n",
      "  df[col] = le.fit_transform(df[col])\n",
      "C:\\Users\\Windows\\AppData\\Local\\Temp\\ipykernel_7436\\2966372241.py:17: SettingWithCopyWarning: \n",
      "A value is trying to be set on a copy of a slice from a DataFrame.\n",
      "Try using .loc[row_indexer,col_indexer] = value instead\n",
      "\n",
      "See the caveats in the documentation: https://pandas.pydata.org/pandas-docs/stable/user_guide/indexing.html#returning-a-view-versus-a-copy\n",
      "  df[col] = le.fit_transform(df[col])\n",
      "C:\\Users\\Windows\\AppData\\Local\\Temp\\ipykernel_7436\\2966372241.py:17: SettingWithCopyWarning: \n",
      "A value is trying to be set on a copy of a slice from a DataFrame.\n",
      "Try using .loc[row_indexer,col_indexer] = value instead\n",
      "\n",
      "See the caveats in the documentation: https://pandas.pydata.org/pandas-docs/stable/user_guide/indexing.html#returning-a-view-versus-a-copy\n",
      "  df[col] = le.fit_transform(df[col])\n",
      "C:\\Users\\Windows\\AppData\\Local\\Temp\\ipykernel_7436\\2966372241.py:17: SettingWithCopyWarning: \n",
      "A value is trying to be set on a copy of a slice from a DataFrame.\n",
      "Try using .loc[row_indexer,col_indexer] = value instead\n",
      "\n",
      "See the caveats in the documentation: https://pandas.pydata.org/pandas-docs/stable/user_guide/indexing.html#returning-a-view-versus-a-copy\n",
      "  df[col] = le.fit_transform(df[col])\n",
      "C:\\Users\\Windows\\AppData\\Local\\Temp\\ipykernel_7436\\2966372241.py:17: SettingWithCopyWarning: \n",
      "A value is trying to be set on a copy of a slice from a DataFrame.\n",
      "Try using .loc[row_indexer,col_indexer] = value instead\n",
      "\n",
      "See the caveats in the documentation: https://pandas.pydata.org/pandas-docs/stable/user_guide/indexing.html#returning-a-view-versus-a-copy\n",
      "  df[col] = le.fit_transform(df[col])\n",
      "C:\\Users\\Windows\\AppData\\Local\\Temp\\ipykernel_7436\\2966372241.py:17: SettingWithCopyWarning: \n",
      "A value is trying to be set on a copy of a slice from a DataFrame.\n",
      "Try using .loc[row_indexer,col_indexer] = value instead\n",
      "\n",
      "See the caveats in the documentation: https://pandas.pydata.org/pandas-docs/stable/user_guide/indexing.html#returning-a-view-versus-a-copy\n",
      "  df[col] = le.fit_transform(df[col])\n",
      "C:\\Users\\Windows\\AppData\\Local\\Temp\\ipykernel_7436\\2966372241.py:17: SettingWithCopyWarning: \n",
      "A value is trying to be set on a copy of a slice from a DataFrame.\n",
      "Try using .loc[row_indexer,col_indexer] = value instead\n",
      "\n",
      "See the caveats in the documentation: https://pandas.pydata.org/pandas-docs/stable/user_guide/indexing.html#returning-a-view-versus-a-copy\n",
      "  df[col] = le.fit_transform(df[col])\n",
      "C:\\Users\\Windows\\AppData\\Local\\Temp\\ipykernel_7436\\2966372241.py:17: SettingWithCopyWarning: \n",
      "A value is trying to be set on a copy of a slice from a DataFrame.\n",
      "Try using .loc[row_indexer,col_indexer] = value instead\n",
      "\n",
      "See the caveats in the documentation: https://pandas.pydata.org/pandas-docs/stable/user_guide/indexing.html#returning-a-view-versus-a-copy\n",
      "  df[col] = le.fit_transform(df[col])\n",
      "C:\\Users\\Windows\\AppData\\Local\\Temp\\ipykernel_7436\\2966372241.py:17: SettingWithCopyWarning: \n",
      "A value is trying to be set on a copy of a slice from a DataFrame.\n",
      "Try using .loc[row_indexer,col_indexer] = value instead\n",
      "\n",
      "See the caveats in the documentation: https://pandas.pydata.org/pandas-docs/stable/user_guide/indexing.html#returning-a-view-versus-a-copy\n",
      "  df[col] = le.fit_transform(df[col])\n",
      "C:\\Users\\Windows\\AppData\\Local\\Temp\\ipykernel_7436\\2966372241.py:17: SettingWithCopyWarning: \n",
      "A value is trying to be set on a copy of a slice from a DataFrame.\n",
      "Try using .loc[row_indexer,col_indexer] = value instead\n",
      "\n",
      "See the caveats in the documentation: https://pandas.pydata.org/pandas-docs/stable/user_guide/indexing.html#returning-a-view-versus-a-copy\n",
      "  df[col] = le.fit_transform(df[col])\n",
      "C:\\Users\\Windows\\AppData\\Local\\Temp\\ipykernel_7436\\2966372241.py:17: SettingWithCopyWarning: \n",
      "A value is trying to be set on a copy of a slice from a DataFrame.\n",
      "Try using .loc[row_indexer,col_indexer] = value instead\n",
      "\n",
      "See the caveats in the documentation: https://pandas.pydata.org/pandas-docs/stable/user_guide/indexing.html#returning-a-view-versus-a-copy\n",
      "  df[col] = le.fit_transform(df[col])\n",
      "C:\\Users\\Windows\\AppData\\Local\\Temp\\ipykernel_7436\\2966372241.py:17: SettingWithCopyWarning: \n",
      "A value is trying to be set on a copy of a slice from a DataFrame.\n",
      "Try using .loc[row_indexer,col_indexer] = value instead\n",
      "\n",
      "See the caveats in the documentation: https://pandas.pydata.org/pandas-docs/stable/user_guide/indexing.html#returning-a-view-versus-a-copy\n",
      "  df[col] = le.fit_transform(df[col])\n",
      "C:\\Users\\Windows\\AppData\\Local\\Temp\\ipykernel_7436\\2966372241.py:17: SettingWithCopyWarning: \n",
      "A value is trying to be set on a copy of a slice from a DataFrame.\n",
      "Try using .loc[row_indexer,col_indexer] = value instead\n",
      "\n",
      "See the caveats in the documentation: https://pandas.pydata.org/pandas-docs/stable/user_guide/indexing.html#returning-a-view-versus-a-copy\n",
      "  df[col] = le.fit_transform(df[col])\n",
      "C:\\Users\\Windows\\AppData\\Local\\Temp\\ipykernel_7436\\2966372241.py:17: SettingWithCopyWarning: \n",
      "A value is trying to be set on a copy of a slice from a DataFrame.\n",
      "Try using .loc[row_indexer,col_indexer] = value instead\n",
      "\n",
      "See the caveats in the documentation: https://pandas.pydata.org/pandas-docs/stable/user_guide/indexing.html#returning-a-view-versus-a-copy\n",
      "  df[col] = le.fit_transform(df[col])\n",
      "C:\\Users\\Windows\\AppData\\Local\\Temp\\ipykernel_7436\\2966372241.py:17: SettingWithCopyWarning: \n",
      "A value is trying to be set on a copy of a slice from a DataFrame.\n",
      "Try using .loc[row_indexer,col_indexer] = value instead\n",
      "\n",
      "See the caveats in the documentation: https://pandas.pydata.org/pandas-docs/stable/user_guide/indexing.html#returning-a-view-versus-a-copy\n",
      "  df[col] = le.fit_transform(df[col])\n",
      "C:\\Users\\Windows\\AppData\\Local\\Temp\\ipykernel_7436\\2966372241.py:17: SettingWithCopyWarning: \n",
      "A value is trying to be set on a copy of a slice from a DataFrame.\n",
      "Try using .loc[row_indexer,col_indexer] = value instead\n",
      "\n",
      "See the caveats in the documentation: https://pandas.pydata.org/pandas-docs/stable/user_guide/indexing.html#returning-a-view-versus-a-copy\n",
      "  df[col] = le.fit_transform(df[col])\n",
      "C:\\Users\\Windows\\AppData\\Local\\Temp\\ipykernel_7436\\2966372241.py:17: SettingWithCopyWarning: \n",
      "A value is trying to be set on a copy of a slice from a DataFrame.\n",
      "Try using .loc[row_indexer,col_indexer] = value instead\n",
      "\n",
      "See the caveats in the documentation: https://pandas.pydata.org/pandas-docs/stable/user_guide/indexing.html#returning-a-view-versus-a-copy\n",
      "  df[col] = le.fit_transform(df[col])\n",
      "C:\\Users\\Windows\\AppData\\Local\\Temp\\ipykernel_7436\\2966372241.py:17: SettingWithCopyWarning: \n",
      "A value is trying to be set on a copy of a slice from a DataFrame.\n",
      "Try using .loc[row_indexer,col_indexer] = value instead\n",
      "\n",
      "See the caveats in the documentation: https://pandas.pydata.org/pandas-docs/stable/user_guide/indexing.html#returning-a-view-versus-a-copy\n",
      "  df[col] = le.fit_transform(df[col])\n"
     ]
    },
    {
     "name": "stdout",
     "output_type": "stream",
     "text": [
      "\n",
      "Resultados Regresión Lineal:\n",
      " MAE  = 4.31\n",
      " RMSE = 6.87\n",
      " R²   = 0.980\n",
      "\n",
      "Resultados Random Forest:\n",
      " MAE  = 0.49\n",
      " RMSE = 0.84\n",
      " R²   = 1.000\n",
      "\n",
      "Variables más importantes según Random Forest:\n",
      "PERCENTIL_GLOBAL                 0.997714\n",
      "PUNT_SOCIALES_CIUDADANAS         0.000541\n",
      "PUNT_MATEMATICAS                 0.000480\n",
      "PUNT_C_NATURALES                 0.000440\n",
      "PUNT_LECTURA_CRITICA             0.000331\n",
      "PUNT_INGLES                      0.000079\n",
      "PERCENTIL_LECTURA_CRITICA        0.000045\n",
      "PERCENTIL_SOCIALES_CIUDADANAS    0.000032\n",
      "PERCENTIL_C_NATURALES            0.000032\n",
      "PERCENTIL_MATEMATICAS            0.000032\n",
      "dtype: float64\n"
     ]
    }
   ],
   "source": [
    "from sklearn.model_selection import train_test_split\n",
    "from sklearn.preprocessing import LabelEncoder\n",
    "from sklearn.linear_model import LinearRegression\n",
    "from sklearn.ensemble import RandomForestRegressor\n",
    "from sklearn.metrics import mean_absolute_error, mean_squared_error, r2_score\n",
    "import numpy as np\n",
    "\n",
    "def fase3_modelado(df, nombre):\n",
    "    print(f\"\\n===== Fase 3: Modelado {nombre} =====\")\n",
    "    \n",
    "    df = df.dropna()\n",
    "    \n",
    "    # Codificar variables categóricas\n",
    "    le = LabelEncoder()\n",
    "    for col in df.select_dtypes(include=['object']).columns:\n",
    "        df[col] = le.fit_transform(df[col])\n",
    "    \n",
    "    # Definicion de variables\n",
    "    X = df.drop(\"PUNT_GLOBAL\", axis=1)\n",
    "    y = df[\"PUNT_GLOBAL\"]\n",
    "    \n",
    "    # Dividir en train/test\n",
    "    X_train, X_test, y_train, y_test = train_test_split(\n",
    "        X, y, test_size=0.2, random_state=42\n",
    "    )\n",
    "    \n",
    "    lr = LinearRegression()\n",
    "    lr.fit(X_train, y_train)\n",
    "    y_pred_lr = lr.predict(X_test)\n",
    "    \n",
    "    rf = RandomForestRegressor(random_state=42, n_estimators=100)\n",
    "    rf.fit(X_train, y_train)\n",
    "    y_pred_rf = rf.predict(X_test)\n",
    "    \n",
    "    def evaluar(y_test, y_pred, modelo):\n",
    "        mae = mean_absolute_error(y_test, y_pred)\n",
    "        rmse = np.sqrt(mean_squared_error(y_test, y_pred))\n",
    "        r2 = r2_score(y_test, y_pred)\n",
    "        print(f\"\\nResultados {modelo}:\")\n",
    "        print(f\" MAE  = {mae:.2f}\")\n",
    "        print(f\" RMSE = {rmse:.2f}\")\n",
    "        print(f\" R²   = {r2:.3f}\")\n",
    "    \n",
    "    evaluar(y_test, y_pred_lr, \"Regresión Lineal\")\n",
    "    evaluar(y_test, y_pred_rf, \"Random Forest\")\n",
    "    \n",
    "    importances = rf.feature_importances_\n",
    "    importancia_vars = pd.Series(importances, index=X.columns).sort_values(ascending=False)\n",
    "    print(\"\\nVariables más importantes según Random Forest:\")\n",
    "    print(importancia_vars.head(10))\n",
    "\n",
    "\n",
    "# Ejecutar con ambos datasets\n",
    "fase3_modelado(datos_icfes_a, \"ICFES A\")\n",
    "fase3_modelado(datos_icfes_b, \"ICFES B\")\n"
   ]
  },
  {
   "cell_type": "markdown",
   "metadata": {
    "nbgrader": {
     "grade": false,
     "grade_id": "cell-48c276616fb862c5",
     "locked": true,
     "schema_version": 3,
     "solution": false,
     "task": false
    }
   },
   "source": [
    "## Fase 4"
   ]
  },
  {
   "cell_type": "markdown",
   "metadata": {
    "nbgrader": {
     "grade": false,
     "grade_id": "cell-eb30850cd7109d78",
     "locked": true,
     "schema_version": 3,
     "solution": false,
     "task": false
    }
   },
   "source": [
    "Deberás elegir y realizar una de las dos alternativas que se encuentran a continuación."
   ]
  },
  {
   "cell_type": "markdown",
   "metadata": {
    "nbgrader": {
     "grade": false,
     "grade_id": "cell-378e2b071d246af8",
     "locked": true,
     "schema_version": 3,
     "solution": false,
     "task": false
    }
   },
   "source": [
    "### Alternativa 1: desarrollar una herramienta interactiva de análisis"
   ]
  },
  {
   "cell_type": "markdown",
   "metadata": {
    "nbgrader": {
     "grade": false,
     "grade_id": "cell-378e2b071d246af9",
     "locked": true,
     "schema_version": 3,
     "solution": false,
     "task": false
    }
   },
   "source": [
    "En esta fase desarrollarás, a partir de alguno de los análisis realizados, una herramienta interactiva que sea relevante en el contexto del problema, acompañada de las instrucciones necesarias para que un usuario la pueda utilizar."
   ]
  },
  {
   "cell_type": "markdown",
   "metadata": {
    "nbgrader": {
     "grade": false,
     "grade_id": "cell-378e2b071d246af10",
     "locked": true,
     "schema_version": 3,
     "solution": false,
     "task": false
    }
   },
   "source": [
    "Pautas generales:\n",
    "\n",
    "* Seleccionar uno de los análisis previos que pueda verse enriquecido con alguna característica de interactividad.\n",
    "* Seleccionar el/los parámetro(s) que el usuario podrá cambiar.\n",
    "* Desarrollar las funciones que se deben ejecutar con cada acción del usuario.\n",
    "* Utilizar una librería especializada (ej., `ipywidgets`, `panel`, etc.) para implementar la herramienta."
   ]
  },
  {
   "cell_type": "markdown",
   "metadata": {
    "nbgrader": {
     "grade": false,
     "grade_id": "cell-378e2b071d246af11",
     "locked": true,
     "schema_version": 3,
     "solution": false,
     "task": false
    }
   },
   "source": [
    "Preguntas guía:\n",
    "\n",
    "* ¿Cuál o cuáles preguntas podrá hacerle el usuario a la herramienta y cómo aporta la respuesta al análisis?\n",
    "* ¿Qué aprendizajes clave puede explorar u obtener el usuario con esta herramienta?"
   ]
  },
  {
   "cell_type": "code",
   "execution_count": null,
   "metadata": {
    "nbgrader": {
     "grade": true,
     "grade_id": "cell-6b287262b7ce28bb",
     "locked": false,
     "points": 30,
     "schema_version": 3,
     "solution": true,
     "task": false
    }
   },
   "outputs": [],
   "source": [
    "# Implementa tu respuesta en esta celda}\n"
   ]
  },
  {
   "cell_type": "markdown",
   "metadata": {
    "nbgrader": {
     "grade": false,
     "grade_id": "cell-c8a33682f37a6fa7",
     "locked": true,
     "schema_version": 3,
     "solution": false,
     "task": false
    }
   },
   "source": [
    "### Alternativa 2: registrar en bases de datos relacionales con PySpark"
   ]
  },
  {
   "cell_type": "markdown",
   "metadata": {
    "nbgrader": {
     "grade": false,
     "grade_id": "cell-c8a33682f37a6fa8",
     "locked": true,
     "schema_version": 3,
     "solution": false,
     "task": false
    }
   },
   "source": [
    "En esta fase desarrollarás, a partir de alguno de los análisis realizados, un _script_ que sea relevante en el contexto del problema, acompañado de las instrucciones necesarias para que un usuario lo pueda ejecutar."
   ]
  },
  {
   "cell_type": "markdown",
   "metadata": {
    "nbgrader": {
     "grade": false,
     "grade_id": "cell-c8a33682f37a6fa9",
     "locked": true,
     "schema_version": 3,
     "solution": false,
     "task": false
    }
   },
   "source": [
    "Pautas generales:\n",
    "\n",
    "* Cargar en una base de datos relacional (tipo SQL) el segmento de los datos sobre el cual profundizaste en tu anális, utilizando una tabla distinta para cada categoría de campos. Por ejemplo, una categoría puedes ser información del colegio; en cuyo caso, una tabla debería contener un registro único para cada colegio y todos los campos asociados.\n",
    "\n",
    "* Los campos, a excepción de los identificadores, deben existir en un única tabla.\n",
    "\n",
    "* Cada registro debe existir una única vez en su respectiva tabla.\n",
    "\n",
    "* Cada registro debe tener un identificador único en su tabla, el cual establece una relación entre tablas.\n",
    "\n",
    "* Seleccionar uno de los modelos predictivos implementados.\n",
    "\n",
    "* Crear en la base de datos relacional una tabla que contenga únicamente los identificadores del registro y la predicción de la variable de respuesta hecha por el modelo.\n",
    "\n",
    "* Desarrollar _queries_ de SQL según las siguientes indicaciones y concluir acerca de los resultados:\n",
    "    * Un _query_ que seleccione todos registros y los agregue en una única tabla. Para esto debes relacionar las tablas por su identificador, utilizando el método `JOIN`.\n",
    "    * Un _query_ que contenga el puntaje promedio de los estudiantes, agrupado por año y por colegio.\n",
    "    * Distintos _queries_ que calculen medidas de error de predicción del modelo a partir de los datos reales y las predicciones respectivas. Debes reportar el error para cada registro, el error total de los registros de entrenamiento y el error total de los registros de prueba.\n",
    "    * Haz dos _queries_ adicionales que resulten interesantes."
   ]
  },
  {
   "cell_type": "markdown",
   "metadata": {
    "nbgrader": {
     "grade": false,
     "grade_id": "cell-c8a33682f37a6fa10",
     "locked": true,
     "schema_version": 3,
     "solution": false,
     "task": false
    }
   },
   "source": [
    "Preguntas guía:\n",
    "\n",
    "* ¿Cómo aporta la segmentación de los datos en categorías de campos al manejo de los datos?\n",
    "* ¿Qué filtros y agrupaciones podemos aplicar sobre los datos con el fin de obtener información relevante?"
   ]
  },
  {
   "cell_type": "code",
   "execution_count": null,
   "metadata": {
    "nbgrader": {
     "grade": true,
     "grade_id": "cell-29052f96082e3438",
     "locked": false,
     "points": 0,
     "schema_version": 3,
     "solution": true,
     "task": false
    }
   },
   "outputs": [],
   "source": [
    "# Implementa tu respuesta en esta celda\n"
   ]
  },
  {
   "cell_type": "markdown",
   "metadata": {
    "nbgrader": {
     "grade": false,
     "grade_id": "cell-32cfb4282f725e3c",
     "locked": true,
     "schema_version": 3,
     "solution": false,
     "task": false
    }
   },
   "source": [
    "## Referencias"
   ]
  },
  {
   "cell_type": "markdown",
   "metadata": {
    "nbgrader": {
     "grade": false,
     "grade_id": "cell-32cfb4282f725e3c1",
     "locked": true,
     "schema_version": 3,
     "solution": false,
     "task": false
    }
   },
   "source": [
    "*  J. VanderPlas (2016) *Python Data Science Handbook: Essential Tools for Working with Data* O'Reilly Media, Inc.\n",
    "*  scikit-learn developers . (2020). Demo of DBSCAN clustering algorithm. 11 Diciembre 2020, de scikit-learn <br> https://scikit-learn.org/stable/auto_examples/cluster/plot_dbscan.html#sphx-glr-auto-examples-cluster-plot-dbscan-py"
   ]
  },
  {
   "cell_type": "markdown",
   "metadata": {
    "nbgrader": {
     "grade": false,
     "grade_id": "cell-32cfb4282f725e3c2",
     "locked": true,
     "schema_version": 3,
     "solution": false,
     "task": false
    }
   },
   "source": [
    "## Créditos"
   ]
  },
  {
   "cell_type": "markdown",
   "metadata": {
    "nbgrader": {
     "grade": false,
     "grade_id": "cell-32cfb4282f725e3c3",
     "locked": true,
     "schema_version": 3,
     "solution": false,
     "task": false
    }
   },
   "source": [
    "__Autores__: Camilo Hernando Gómez Castro, Alejandro Mantilla Redondo, Jose Fernando Barrera de Plaza, Diego Alejandro Cely Gómez.\n",
    "\n",
    "__Fecha última actualización__: 29/09/2022"
   ]
  }
 ],
 "metadata": {
  "celltoolbar": "Create Assignment",
  "kernelspec": {
   "display_name": "Python 3",
   "language": "python",
   "name": "python3"
  },
  "language_info": {
   "codemirror_mode": {
    "name": "ipython",
    "version": 3
   },
   "file_extension": ".py",
   "mimetype": "text/x-python",
   "name": "python",
   "nbconvert_exporter": "python",
   "pygments_lexer": "ipython3",
   "version": "3.10.11"
  }
 },
 "nbformat": 4,
 "nbformat_minor": 2
}
